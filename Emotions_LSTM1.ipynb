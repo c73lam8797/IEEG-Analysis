{
 "cells": [
  {
   "cell_type": "code",
   "execution_count": 46,
   "metadata": {},
   "outputs": [],
   "source": [
    "import tensorflow as tf\n",
    "from tensorflow.keras import layers\n",
    "import tensorflow_datasets as tfds\n",
    "import numpy as np\n",
    "import pandas as pd\n",
    "import matplotlib.pyplot as plt\n",
    "from tensorflow.keras import *"
   ]
  },
  {
   "cell_type": "code",
   "execution_count": 47,
   "metadata": {},
   "outputs": [],
   "source": [
    "df = pd.read_csv(\"./DATA/Emotions/emotions.csv\")"
   ]
  },
  {
   "cell_type": "code",
   "execution_count": 48,
   "metadata": {},
   "outputs": [
    {
     "output_type": "stream",
     "name": "stdout",
     "text": "2132 2549\n"
    }
   ],
   "source": [
    "num_columns = len(df.columns)\n",
    "print(len(df.index), num_columns)"
   ]
  },
  {
   "cell_type": "code",
   "execution_count": 49,
   "metadata": {},
   "outputs": [],
   "source": [
    "def unison_shuffled_copies(a, b):\n",
    "    assert len(a) == len(b)\n",
    "    p = np.random.permutation(len(a))\n",
    "    return a[p], b[p]\n",
    "\n",
    "def Oversample(data, labels):\n",
    "    zeros = []\n",
    "    ones = []\n",
    "    for (index, label) in enumerate(labels):\n",
    "        if label == 0:\n",
    "            zeros.append(data[index])\n",
    "        else:\n",
    "            ones.append(data[index])\n",
    "\n",
    "    zeros, ones = np.array(zeros), np.array(ones)\n",
    "    ids = np.arange(len(ones))\n",
    "    choices = np.random.choice(ids, len(zeros)) #choose entries from so that number of ones and zeroes are the same \n",
    "\n",
    "    res_ones_features = ones[choices]\n",
    "    res_ones_labels = np.ones(len(res_ones_features))\n",
    "\n",
    "    resampled_features = np.concatenate([res_ones_features, zeros], axis=0)\n",
    "    resampled_labels = np.concatenate([res_ones_labels, np.zeros(len(zeros))], axis=0)\n",
    "\n",
    "    return unison_shuffled_copies(resampled_features, resampled_labels)\n",
    "        "
   ]
  },
  {
   "cell_type": "code",
   "execution_count": 50,
   "metadata": {},
   "outputs": [
    {
     "output_type": "execute_result",
     "data": {
      "text/plain": "   # mean_0_a  mean_1_a  mean_2_a  mean_3_a  mean_4_a  mean_d_0_a  mean_d_1_a  \\\n0        4.62      30.3    -356.0      15.6      26.3       1.070       0.411   \n1       28.80      33.1      32.0      25.8      22.8       6.550       1.680   \n2        8.90      29.4    -416.0      16.7      23.7      79.900       3.360   \n3       14.90      31.6    -143.0      19.8      24.3      -0.584      -0.284   \n4       28.30      31.3      45.2      27.3      24.5      34.800      -5.790   \n\n   mean_d_2_a  mean_d_3_a  mean_d_4_a  ...  fft_741_b  fft_742_b  fft_743_b  \\\n0      -15.70        2.06        3.15  ...       23.5       20.3       20.3   \n1        2.88        3.83       -4.82  ...      -23.3      -21.8      -21.8   \n2       90.20       89.90        2.03  ...      462.0     -233.0     -233.0   \n3        8.82        2.30       -1.97  ...      299.0     -243.0     -243.0   \n4        3.06       41.40        5.52  ...       12.0       38.1       38.1   \n\n   fft_744_b  fft_745_b  fft_746_b  fft_747_b  fft_748_b  fft_749_b     label  \n0       23.5     -215.0     280.00    -162.00    -162.00     280.00  NEGATIVE  \n1      -23.3      182.0       2.57     -31.60     -31.60       2.57   NEUTRAL  \n2      462.0     -267.0     281.00    -148.00    -148.00     281.00  POSITIVE  \n3      299.0      132.0     -12.40       9.53       9.53     -12.40  POSITIVE  \n4       12.0      119.0     -17.60      23.90      23.90     -17.60   NEUTRAL  \n\n[5 rows x 2549 columns]",
      "text/html": "<div>\n<style scoped>\n    .dataframe tbody tr th:only-of-type {\n        vertical-align: middle;\n    }\n\n    .dataframe tbody tr th {\n        vertical-align: top;\n    }\n\n    .dataframe thead th {\n        text-align: right;\n    }\n</style>\n<table border=\"1\" class=\"dataframe\">\n  <thead>\n    <tr style=\"text-align: right;\">\n      <th></th>\n      <th># mean_0_a</th>\n      <th>mean_1_a</th>\n      <th>mean_2_a</th>\n      <th>mean_3_a</th>\n      <th>mean_4_a</th>\n      <th>mean_d_0_a</th>\n      <th>mean_d_1_a</th>\n      <th>mean_d_2_a</th>\n      <th>mean_d_3_a</th>\n      <th>mean_d_4_a</th>\n      <th>...</th>\n      <th>fft_741_b</th>\n      <th>fft_742_b</th>\n      <th>fft_743_b</th>\n      <th>fft_744_b</th>\n      <th>fft_745_b</th>\n      <th>fft_746_b</th>\n      <th>fft_747_b</th>\n      <th>fft_748_b</th>\n      <th>fft_749_b</th>\n      <th>label</th>\n    </tr>\n  </thead>\n  <tbody>\n    <tr>\n      <th>0</th>\n      <td>4.62</td>\n      <td>30.3</td>\n      <td>-356.0</td>\n      <td>15.6</td>\n      <td>26.3</td>\n      <td>1.070</td>\n      <td>0.411</td>\n      <td>-15.70</td>\n      <td>2.06</td>\n      <td>3.15</td>\n      <td>...</td>\n      <td>23.5</td>\n      <td>20.3</td>\n      <td>20.3</td>\n      <td>23.5</td>\n      <td>-215.0</td>\n      <td>280.00</td>\n      <td>-162.00</td>\n      <td>-162.00</td>\n      <td>280.00</td>\n      <td>NEGATIVE</td>\n    </tr>\n    <tr>\n      <th>1</th>\n      <td>28.80</td>\n      <td>33.1</td>\n      <td>32.0</td>\n      <td>25.8</td>\n      <td>22.8</td>\n      <td>6.550</td>\n      <td>1.680</td>\n      <td>2.88</td>\n      <td>3.83</td>\n      <td>-4.82</td>\n      <td>...</td>\n      <td>-23.3</td>\n      <td>-21.8</td>\n      <td>-21.8</td>\n      <td>-23.3</td>\n      <td>182.0</td>\n      <td>2.57</td>\n      <td>-31.60</td>\n      <td>-31.60</td>\n      <td>2.57</td>\n      <td>NEUTRAL</td>\n    </tr>\n    <tr>\n      <th>2</th>\n      <td>8.90</td>\n      <td>29.4</td>\n      <td>-416.0</td>\n      <td>16.7</td>\n      <td>23.7</td>\n      <td>79.900</td>\n      <td>3.360</td>\n      <td>90.20</td>\n      <td>89.90</td>\n      <td>2.03</td>\n      <td>...</td>\n      <td>462.0</td>\n      <td>-233.0</td>\n      <td>-233.0</td>\n      <td>462.0</td>\n      <td>-267.0</td>\n      <td>281.00</td>\n      <td>-148.00</td>\n      <td>-148.00</td>\n      <td>281.00</td>\n      <td>POSITIVE</td>\n    </tr>\n    <tr>\n      <th>3</th>\n      <td>14.90</td>\n      <td>31.6</td>\n      <td>-143.0</td>\n      <td>19.8</td>\n      <td>24.3</td>\n      <td>-0.584</td>\n      <td>-0.284</td>\n      <td>8.82</td>\n      <td>2.30</td>\n      <td>-1.97</td>\n      <td>...</td>\n      <td>299.0</td>\n      <td>-243.0</td>\n      <td>-243.0</td>\n      <td>299.0</td>\n      <td>132.0</td>\n      <td>-12.40</td>\n      <td>9.53</td>\n      <td>9.53</td>\n      <td>-12.40</td>\n      <td>POSITIVE</td>\n    </tr>\n    <tr>\n      <th>4</th>\n      <td>28.30</td>\n      <td>31.3</td>\n      <td>45.2</td>\n      <td>27.3</td>\n      <td>24.5</td>\n      <td>34.800</td>\n      <td>-5.790</td>\n      <td>3.06</td>\n      <td>41.40</td>\n      <td>5.52</td>\n      <td>...</td>\n      <td>12.0</td>\n      <td>38.1</td>\n      <td>38.1</td>\n      <td>12.0</td>\n      <td>119.0</td>\n      <td>-17.60</td>\n      <td>23.90</td>\n      <td>23.90</td>\n      <td>-17.60</td>\n      <td>NEUTRAL</td>\n    </tr>\n  </tbody>\n</table>\n<p>5 rows × 2549 columns</p>\n</div>"
     },
     "metadata": {},
     "execution_count": 50
    }
   ],
   "source": [
    "df.head() #each row represents one second"
   ]
  },
  {
   "cell_type": "code",
   "execution_count": 51,
   "metadata": {},
   "outputs": [],
   "source": [
    "df = df.sample(frac=1) #shuffle dataset\n",
    "data = df.drop(['label'], axis=1).to_numpy()\n",
    "labels = df['label'].to_numpy()"
   ]
  },
  {
   "cell_type": "code",
   "execution_count": 52,
   "metadata": {},
   "outputs": [
    {
     "output_type": "stream",
     "name": "stdout",
     "text": "['POSITIVE', 'NEUTRAL', 'NEGATIVE']\n"
    }
   ],
   "source": [
    "all_labels = list(set(labels))\n",
    "print(all_labels)\n",
    "class_labels = tfds.features.ClassLabel(names=all_labels)"
   ]
  },
  {
   "cell_type": "code",
   "execution_count": 53,
   "metadata": {},
   "outputs": [],
   "source": [
    "labels = np.array([class_labels.str2int(x) for x in labels])"
   ]
  },
  {
   "cell_type": "code",
   "execution_count": 54,
   "metadata": {},
   "outputs": [],
   "source": [
    "# total = len(df.index)\n",
    "# num_zeroes = count\n",
    "# num_ones = total - num_zeroes\n",
    "# print(num_zeroes, num_ones)\n",
    "# zero_weight = (1/num_zeroes)*total/2\n",
    "# one_weight = (1/num_ones)*total/2\n",
    "# class_weight = {0: zero_weight, 1: one_weight}\n",
    "# print(class_weight)"
   ]
  },
  {
   "cell_type": "code",
   "execution_count": 55,
   "metadata": {},
   "outputs": [],
   "source": [
    "# data, labels = Oversample(data, labels)"
   ]
  },
  {
   "cell_type": "code",
   "execution_count": 56,
   "metadata": {},
   "outputs": [],
   "source": [
    "norm = np.linalg.norm(data, axis=0)\n",
    "data = data/norm"
   ]
  },
  {
   "cell_type": "code",
   "execution_count": 57,
   "metadata": {},
   "outputs": [],
   "source": [
    "assert(len(data) == len(labels))\n",
    "train, validate, test = np.split(data, [int(.6*len(data)), int(.8*len(data))])\n",
    "train_labels, validate_labels, test_labels = np.split(labels, [int(.6*len(labels)), int(.8*len(labels))])"
   ]
  },
  {
   "cell_type": "code",
   "execution_count": 58,
   "metadata": {},
   "outputs": [
    {
     "output_type": "stream",
     "name": "stdout",
     "text": "(1279, 2548) (426, 2548) (427, 2548)\n"
    }
   ],
   "source": [
    "print(train.shape, validate.shape, test.shape)"
   ]
  },
  {
   "cell_type": "code",
   "execution_count": 59,
   "metadata": {},
   "outputs": [],
   "source": [
    "TIMESTEPS = 1\n",
    "def Reshape(input):\n",
    "    size, features = input.shape\n",
    "    return input.reshape(size, TIMESTEPS, features)\n",
    "train, validate, test = Reshape(train), Reshape(validate), Reshape(test)"
   ]
  },
  {
   "cell_type": "code",
   "execution_count": 60,
   "metadata": {},
   "outputs": [],
   "source": [
    "EPOCHS = 30\n",
    "BATCH_SIZE = 256\n",
    "INPUT_SHAPE = (TIMESTEPS, num_columns-1)\n",
    "DROPOUT = 0.1"
   ]
  },
  {
   "cell_type": "code",
   "execution_count": 61,
   "metadata": {},
   "outputs": [
    {
     "output_type": "stream",
     "name": "stdout",
     "text": "Model: \"functional_7\"\n_________________________________________________________________\nLayer (type)                 Output Shape              Param #   \n=================================================================\ninput_4 (InputLayer)         [(None, 1, 2548)]         0         \n_________________________________________________________________\nrnn_3 (RNN)                  (None, 4)                 40848     \n_________________________________________________________________\ndense_3 (Dense)              (None, 3)                 15        \n=================================================================\nTotal params: 40,863\nTrainable params: 40,863\nNon-trainable params: 0\n_________________________________________________________________\n"
    }
   ],
   "source": [
    "def Model():\n",
    "    input = layers.Input(shape=INPUT_SHAPE)\n",
    "    cell = layers.LSTMCell(4, dropout=DROPOUT)\n",
    "    rnn = layers.RNN(cell)(input)\n",
    "    # fc1 = layers.Dense(128, activation='relu')(rnn)\n",
    "    output = layers.Dense(3, activation='sigmoid')(rnn)\n",
    "    model = tf.keras.Model(inputs=input, outputs=output)\n",
    "    return model\n",
    "model = Model()\n",
    "model.summary()"
   ]
  },
  {
   "cell_type": "code",
   "execution_count": 69,
   "metadata": {},
   "outputs": [],
   "source": [
    "model.compile(optimizer= tf.keras.optimizers.Adam(learning_rate=0.01),\n",
    "              loss=tf.keras.losses.SparseCategoricalCrossentropy(from_logits=True),\n",
    "              metrics=['accuracy'])"
   ]
  },
  {
   "cell_type": "code",
   "execution_count": 70,
   "metadata": {},
   "outputs": [
    {
     "output_type": "stream",
     "name": "stdout",
     "text": "Epoch 1/30\n5/5 - 0s - loss: 1.0684 - accuracy: 0.6333 - val_loss: 1.0128 - val_accuracy: 0.6925\nEpoch 2/30\n5/5 - 0s - loss: 1.0073 - accuracy: 0.6716 - val_loss: 0.9645 - val_accuracy: 0.7488\nEpoch 3/30\n5/5 - 0s - loss: 0.9692 - accuracy: 0.7858 - val_loss: 0.9329 - val_accuracy: 0.8521\nEpoch 4/30\n5/5 - 0s - loss: 0.9379 - accuracy: 0.8311 - val_loss: 0.9051 - val_accuracy: 0.8451\nEpoch 5/30\n5/5 - 0s - loss: 0.9090 - accuracy: 0.8241 - val_loss: 0.8830 - val_accuracy: 0.8310\nEpoch 6/30\n5/5 - 0s - loss: 0.8866 - accuracy: 0.8163 - val_loss: 0.8656 - val_accuracy: 0.8380\nEpoch 7/30\n5/5 - 0s - loss: 0.8695 - accuracy: 0.8256 - val_loss: 0.8513 - val_accuracy: 0.8404\nEpoch 8/30\n5/5 - 0s - loss: 0.8557 - accuracy: 0.8413 - val_loss: 0.8405 - val_accuracy: 0.8592\nEpoch 9/30\n5/5 - 0s - loss: 0.8449 - accuracy: 0.8655 - val_loss: 0.8317 - val_accuracy: 0.8709\nEpoch 10/30\n5/5 - 0s - loss: 0.8364 - accuracy: 0.8874 - val_loss: 0.8243 - val_accuracy: 0.8826\nEpoch 11/30\n5/5 - 0s - loss: 0.8290 - accuracy: 0.8991 - val_loss: 0.8178 - val_accuracy: 0.8944\nEpoch 12/30\n5/5 - 0s - loss: 0.8219 - accuracy: 0.9140 - val_loss: 0.8114 - val_accuracy: 0.9061\nEpoch 13/30\n5/5 - 0s - loss: 0.8144 - accuracy: 0.9179 - val_loss: 0.8047 - val_accuracy: 0.9085\nEpoch 14/30\n5/5 - 0s - loss: 0.8066 - accuracy: 0.9195 - val_loss: 0.7973 - val_accuracy: 0.9085\nEpoch 15/30\n5/5 - 0s - loss: 0.7976 - accuracy: 0.9203 - val_loss: 0.7887 - val_accuracy: 0.9061\nEpoch 16/30\n5/5 - 0s - loss: 0.7880 - accuracy: 0.9203 - val_loss: 0.7799 - val_accuracy: 0.9061\nEpoch 17/30\n5/5 - 0s - loss: 0.7781 - accuracy: 0.9203 - val_loss: 0.7717 - val_accuracy: 0.9085\nEpoch 18/30\n5/5 - 0s - loss: 0.7688 - accuracy: 0.9265 - val_loss: 0.7640 - val_accuracy: 0.9131\nEpoch 19/30\n5/5 - 0s - loss: 0.7603 - accuracy: 0.9257 - val_loss: 0.7566 - val_accuracy: 0.9131\nEpoch 20/30\n5/5 - 0s - loss: 0.7520 - accuracy: 0.9265 - val_loss: 0.7496 - val_accuracy: 0.9178\nEpoch 21/30\n5/5 - 0s - loss: 0.7440 - accuracy: 0.9289 - val_loss: 0.7429 - val_accuracy: 0.9202\nEpoch 22/30\n5/5 - 0s - loss: 0.7367 - accuracy: 0.9320 - val_loss: 0.7361 - val_accuracy: 0.9225\nEpoch 23/30\n5/5 - 0s - loss: 0.7288 - accuracy: 0.9320 - val_loss: 0.7297 - val_accuracy: 0.9225\nEpoch 24/30\n5/5 - 0s - loss: 0.7217 - accuracy: 0.9343 - val_loss: 0.7236 - val_accuracy: 0.9225\nEpoch 25/30\n5/5 - 0s - loss: 0.7145 - accuracy: 0.9359 - val_loss: 0.7179 - val_accuracy: 0.9249\nEpoch 26/30\n5/5 - 0s - loss: 0.7073 - accuracy: 0.9382 - val_loss: 0.7123 - val_accuracy: 0.9249\nEpoch 27/30\n5/5 - 0s - loss: 0.7013 - accuracy: 0.9398 - val_loss: 0.7070 - val_accuracy: 0.9249\nEpoch 28/30\n5/5 - 0s - loss: 0.6949 - accuracy: 0.9406 - val_loss: 0.7020 - val_accuracy: 0.9249\nEpoch 29/30\n5/5 - 0s - loss: 0.6891 - accuracy: 0.9421 - val_loss: 0.6974 - val_accuracy: 0.9272\nEpoch 30/30\n5/5 - 0s - loss: 0.6838 - accuracy: 0.9429 - val_loss: 0.6930 - val_accuracy: 0.9272\n"
    }
   ],
   "source": [
    "callback = tf.keras.callbacks.EarlyStopping(monitor='accuracy', patience=5)\n",
    "\n",
    "history = model.fit(train, train_labels, \n",
    "epochs=EPOCHS, \n",
    "validation_data=(validate, validate_labels), \n",
    "batch_size=BATCH_SIZE, \n",
    "verbose=2, \n",
    "callbacks=[callback],\n",
    "# class_weight=class_weight,\n",
    "shuffle=True)"
   ]
  },
  {
   "cell_type": "code",
   "execution_count": 71,
   "metadata": {},
   "outputs": [],
   "source": [
    "# model.save(\"./Models/Epilepsy_LSTM1.h5\")"
   ]
  },
  {
   "cell_type": "code",
   "execution_count": 72,
   "metadata": {},
   "outputs": [
    {
     "output_type": "execute_result",
     "data": {
      "text/plain": "<matplotlib.legend.Legend at 0x2c82b819640>"
     },
     "metadata": {},
     "execution_count": 72
    },
    {
     "output_type": "display_data",
     "data": {
      "text/plain": "<Figure size 432x288 with 1 Axes>",
      "image/svg+xml": "<?xml version=\"1.0\" encoding=\"utf-8\" standalone=\"no\"?>\r\n<!DOCTYPE svg PUBLIC \"-//W3C//DTD SVG 1.1//EN\"\r\n  \"http://www.w3.org/Graphics/SVG/1.1/DTD/svg11.dtd\">\r\n<!-- Created with matplotlib (https://matplotlib.org/) -->\r\n<svg height=\"265.995469pt\" version=\"1.1\" viewBox=\"0 0 387.420866 265.995469\" width=\"387.420866pt\" xmlns=\"http://www.w3.org/2000/svg\" xmlns:xlink=\"http://www.w3.org/1999/xlink\">\r\n <defs>\r\n  <style type=\"text/css\">\r\n*{stroke-linecap:butt;stroke-linejoin:round;}\r\n  </style>\r\n </defs>\r\n <g id=\"figure_1\">\r\n  <g id=\"patch_1\">\r\n   <path d=\"M 0 265.995469 \r\nL 387.420866 265.995469 \r\nL 387.420866 0 \r\nL 0 0 \r\nz\r\n\" style=\"fill:none;\"/>\r\n  </g>\r\n  <g id=\"axes_1\">\r\n   <g id=\"patch_2\">\r\n    <path d=\"M 43.78125 228.439219 \r\nL 378.58125 228.439219 \r\nL 378.58125 10.999219 \r\nL 43.78125 10.999219 \r\nz\r\n\" style=\"fill:#ffffff;\"/>\r\n   </g>\r\n   <g id=\"matplotlib.axis_1\">\r\n    <g id=\"xtick_1\">\r\n     <g id=\"line2d_1\">\r\n      <defs>\r\n       <path d=\"M 0 0 \r\nL 0 3.5 \r\n\" id=\"ma563e812f9\" style=\"stroke:#000000;stroke-width:0.8;\"/>\r\n      </defs>\r\n      <g>\r\n       <use style=\"stroke:#000000;stroke-width:0.8;\" x=\"58.999432\" xlink:href=\"#ma563e812f9\" y=\"228.439219\"/>\r\n      </g>\r\n     </g>\r\n     <g id=\"text_1\">\r\n      <!-- 0 -->\r\n      <defs>\r\n       <path d=\"M 31.78125 66.40625 \r\nQ 24.171875 66.40625 20.328125 58.90625 \r\nQ 16.5 51.421875 16.5 36.375 \r\nQ 16.5 21.390625 20.328125 13.890625 \r\nQ 24.171875 6.390625 31.78125 6.390625 \r\nQ 39.453125 6.390625 43.28125 13.890625 \r\nQ 47.125 21.390625 47.125 36.375 \r\nQ 47.125 51.421875 43.28125 58.90625 \r\nQ 39.453125 66.40625 31.78125 66.40625 \r\nz\r\nM 31.78125 74.21875 \r\nQ 44.046875 74.21875 50.515625 64.515625 \r\nQ 56.984375 54.828125 56.984375 36.375 \r\nQ 56.984375 17.96875 50.515625 8.265625 \r\nQ 44.046875 -1.421875 31.78125 -1.421875 \r\nQ 19.53125 -1.421875 13.0625 8.265625 \r\nQ 6.59375 17.96875 6.59375 36.375 \r\nQ 6.59375 54.828125 13.0625 64.515625 \r\nQ 19.53125 74.21875 31.78125 74.21875 \r\nz\r\n\" id=\"DejaVuSans-48\"/>\r\n      </defs>\r\n      <g transform=\"translate(55.818182 243.037656)scale(0.1 -0.1)\">\r\n       <use xlink:href=\"#DejaVuSans-48\"/>\r\n      </g>\r\n     </g>\r\n    </g>\r\n    <g id=\"xtick_2\">\r\n     <g id=\"line2d_2\">\r\n      <g>\r\n       <use style=\"stroke:#000000;stroke-width:0.8;\" x=\"111.475921\" xlink:href=\"#ma563e812f9\" y=\"228.439219\"/>\r\n      </g>\r\n     </g>\r\n     <g id=\"text_2\">\r\n      <!-- 5 -->\r\n      <defs>\r\n       <path d=\"M 10.796875 72.90625 \r\nL 49.515625 72.90625 \r\nL 49.515625 64.59375 \r\nL 19.828125 64.59375 \r\nL 19.828125 46.734375 \r\nQ 21.96875 47.46875 24.109375 47.828125 \r\nQ 26.265625 48.1875 28.421875 48.1875 \r\nQ 40.625 48.1875 47.75 41.5 \r\nQ 54.890625 34.8125 54.890625 23.390625 \r\nQ 54.890625 11.625 47.5625 5.09375 \r\nQ 40.234375 -1.421875 26.90625 -1.421875 \r\nQ 22.3125 -1.421875 17.546875 -0.640625 \r\nQ 12.796875 0.140625 7.71875 1.703125 \r\nL 7.71875 11.625 \r\nQ 12.109375 9.234375 16.796875 8.0625 \r\nQ 21.484375 6.890625 26.703125 6.890625 \r\nQ 35.15625 6.890625 40.078125 11.328125 \r\nQ 45.015625 15.765625 45.015625 23.390625 \r\nQ 45.015625 31 40.078125 35.4375 \r\nQ 35.15625 39.890625 26.703125 39.890625 \r\nQ 22.75 39.890625 18.8125 39.015625 \r\nQ 14.890625 38.140625 10.796875 36.28125 \r\nz\r\n\" id=\"DejaVuSans-53\"/>\r\n      </defs>\r\n      <g transform=\"translate(108.294671 243.037656)scale(0.1 -0.1)\">\r\n       <use xlink:href=\"#DejaVuSans-53\"/>\r\n      </g>\r\n     </g>\r\n    </g>\r\n    <g id=\"xtick_3\">\r\n     <g id=\"line2d_3\">\r\n      <g>\r\n       <use style=\"stroke:#000000;stroke-width:0.8;\" x=\"163.95241\" xlink:href=\"#ma563e812f9\" y=\"228.439219\"/>\r\n      </g>\r\n     </g>\r\n     <g id=\"text_3\">\r\n      <!-- 10 -->\r\n      <defs>\r\n       <path d=\"M 12.40625 8.296875 \r\nL 28.515625 8.296875 \r\nL 28.515625 63.921875 \r\nL 10.984375 60.40625 \r\nL 10.984375 69.390625 \r\nL 28.421875 72.90625 \r\nL 38.28125 72.90625 \r\nL 38.28125 8.296875 \r\nL 54.390625 8.296875 \r\nL 54.390625 0 \r\nL 12.40625 0 \r\nz\r\n\" id=\"DejaVuSans-49\"/>\r\n      </defs>\r\n      <g transform=\"translate(157.58991 243.037656)scale(0.1 -0.1)\">\r\n       <use xlink:href=\"#DejaVuSans-49\"/>\r\n       <use x=\"63.623047\" xlink:href=\"#DejaVuSans-48\"/>\r\n      </g>\r\n     </g>\r\n    </g>\r\n    <g id=\"xtick_4\">\r\n     <g id=\"line2d_4\">\r\n      <g>\r\n       <use style=\"stroke:#000000;stroke-width:0.8;\" x=\"216.428899\" xlink:href=\"#ma563e812f9\" y=\"228.439219\"/>\r\n      </g>\r\n     </g>\r\n     <g id=\"text_4\">\r\n      <!-- 15 -->\r\n      <g transform=\"translate(210.066399 243.037656)scale(0.1 -0.1)\">\r\n       <use xlink:href=\"#DejaVuSans-49\"/>\r\n       <use x=\"63.623047\" xlink:href=\"#DejaVuSans-53\"/>\r\n      </g>\r\n     </g>\r\n    </g>\r\n    <g id=\"xtick_5\">\r\n     <g id=\"line2d_5\">\r\n      <g>\r\n       <use style=\"stroke:#000000;stroke-width:0.8;\" x=\"268.905388\" xlink:href=\"#ma563e812f9\" y=\"228.439219\"/>\r\n      </g>\r\n     </g>\r\n     <g id=\"text_5\">\r\n      <!-- 20 -->\r\n      <defs>\r\n       <path d=\"M 19.1875 8.296875 \r\nL 53.609375 8.296875 \r\nL 53.609375 0 \r\nL 7.328125 0 \r\nL 7.328125 8.296875 \r\nQ 12.9375 14.109375 22.625 23.890625 \r\nQ 32.328125 33.6875 34.8125 36.53125 \r\nQ 39.546875 41.84375 41.421875 45.53125 \r\nQ 43.3125 49.21875 43.3125 52.78125 \r\nQ 43.3125 58.59375 39.234375 62.25 \r\nQ 35.15625 65.921875 28.609375 65.921875 \r\nQ 23.96875 65.921875 18.8125 64.3125 \r\nQ 13.671875 62.703125 7.8125 59.421875 \r\nL 7.8125 69.390625 \r\nQ 13.765625 71.78125 18.9375 73 \r\nQ 24.125 74.21875 28.421875 74.21875 \r\nQ 39.75 74.21875 46.484375 68.546875 \r\nQ 53.21875 62.890625 53.21875 53.421875 \r\nQ 53.21875 48.921875 51.53125 44.890625 \r\nQ 49.859375 40.875 45.40625 35.40625 \r\nQ 44.1875 33.984375 37.640625 27.21875 \r\nQ 31.109375 20.453125 19.1875 8.296875 \r\nz\r\n\" id=\"DejaVuSans-50\"/>\r\n      </defs>\r\n      <g transform=\"translate(262.542888 243.037656)scale(0.1 -0.1)\">\r\n       <use xlink:href=\"#DejaVuSans-50\"/>\r\n       <use x=\"63.623047\" xlink:href=\"#DejaVuSans-48\"/>\r\n      </g>\r\n     </g>\r\n    </g>\r\n    <g id=\"xtick_6\">\r\n     <g id=\"line2d_6\">\r\n      <g>\r\n       <use style=\"stroke:#000000;stroke-width:0.8;\" x=\"321.381877\" xlink:href=\"#ma563e812f9\" y=\"228.439219\"/>\r\n      </g>\r\n     </g>\r\n     <g id=\"text_6\">\r\n      <!-- 25 -->\r\n      <g transform=\"translate(315.019377 243.037656)scale(0.1 -0.1)\">\r\n       <use xlink:href=\"#DejaVuSans-50\"/>\r\n       <use x=\"63.623047\" xlink:href=\"#DejaVuSans-53\"/>\r\n      </g>\r\n     </g>\r\n    </g>\r\n    <g id=\"xtick_7\">\r\n     <g id=\"line2d_7\">\r\n      <g>\r\n       <use style=\"stroke:#000000;stroke-width:0.8;\" x=\"373.858366\" xlink:href=\"#ma563e812f9\" y=\"228.439219\"/>\r\n      </g>\r\n     </g>\r\n     <g id=\"text_7\">\r\n      <!-- 30 -->\r\n      <defs>\r\n       <path d=\"M 40.578125 39.3125 \r\nQ 47.65625 37.796875 51.625 33 \r\nQ 55.609375 28.21875 55.609375 21.1875 \r\nQ 55.609375 10.40625 48.1875 4.484375 \r\nQ 40.765625 -1.421875 27.09375 -1.421875 \r\nQ 22.515625 -1.421875 17.65625 -0.515625 \r\nQ 12.796875 0.390625 7.625 2.203125 \r\nL 7.625 11.71875 \r\nQ 11.71875 9.328125 16.59375 8.109375 \r\nQ 21.484375 6.890625 26.8125 6.890625 \r\nQ 36.078125 6.890625 40.9375 10.546875 \r\nQ 45.796875 14.203125 45.796875 21.1875 \r\nQ 45.796875 27.640625 41.28125 31.265625 \r\nQ 36.765625 34.90625 28.71875 34.90625 \r\nL 20.21875 34.90625 \r\nL 20.21875 43.015625 \r\nL 29.109375 43.015625 \r\nQ 36.375 43.015625 40.234375 45.921875 \r\nQ 44.09375 48.828125 44.09375 54.296875 \r\nQ 44.09375 59.90625 40.109375 62.90625 \r\nQ 36.140625 65.921875 28.71875 65.921875 \r\nQ 24.65625 65.921875 20.015625 65.03125 \r\nQ 15.375 64.15625 9.8125 62.3125 \r\nL 9.8125 71.09375 \r\nQ 15.4375 72.65625 20.34375 73.4375 \r\nQ 25.25 74.21875 29.59375 74.21875 \r\nQ 40.828125 74.21875 47.359375 69.109375 \r\nQ 53.90625 64.015625 53.90625 55.328125 \r\nQ 53.90625 49.265625 50.4375 45.09375 \r\nQ 46.96875 40.921875 40.578125 39.3125 \r\nz\r\n\" id=\"DejaVuSans-51\"/>\r\n      </defs>\r\n      <g transform=\"translate(367.495866 243.037656)scale(0.1 -0.1)\">\r\n       <use xlink:href=\"#DejaVuSans-51\"/>\r\n       <use x=\"63.623047\" xlink:href=\"#DejaVuSans-48\"/>\r\n      </g>\r\n     </g>\r\n    </g>\r\n    <g id=\"text_8\">\r\n     <!-- Epoch -->\r\n     <defs>\r\n      <path d=\"M 9.8125 72.90625 \r\nL 55.90625 72.90625 \r\nL 55.90625 64.59375 \r\nL 19.671875 64.59375 \r\nL 19.671875 43.015625 \r\nL 54.390625 43.015625 \r\nL 54.390625 34.71875 \r\nL 19.671875 34.71875 \r\nL 19.671875 8.296875 \r\nL 56.78125 8.296875 \r\nL 56.78125 0 \r\nL 9.8125 0 \r\nz\r\n\" id=\"DejaVuSans-69\"/>\r\n      <path d=\"M 18.109375 8.203125 \r\nL 18.109375 -20.796875 \r\nL 9.078125 -20.796875 \r\nL 9.078125 54.6875 \r\nL 18.109375 54.6875 \r\nL 18.109375 46.390625 \r\nQ 20.953125 51.265625 25.265625 53.625 \r\nQ 29.59375 56 35.59375 56 \r\nQ 45.5625 56 51.78125 48.09375 \r\nQ 58.015625 40.1875 58.015625 27.296875 \r\nQ 58.015625 14.40625 51.78125 6.484375 \r\nQ 45.5625 -1.421875 35.59375 -1.421875 \r\nQ 29.59375 -1.421875 25.265625 0.953125 \r\nQ 20.953125 3.328125 18.109375 8.203125 \r\nz\r\nM 48.6875 27.296875 \r\nQ 48.6875 37.203125 44.609375 42.84375 \r\nQ 40.53125 48.484375 33.40625 48.484375 \r\nQ 26.265625 48.484375 22.1875 42.84375 \r\nQ 18.109375 37.203125 18.109375 27.296875 \r\nQ 18.109375 17.390625 22.1875 11.75 \r\nQ 26.265625 6.109375 33.40625 6.109375 \r\nQ 40.53125 6.109375 44.609375 11.75 \r\nQ 48.6875 17.390625 48.6875 27.296875 \r\nz\r\n\" id=\"DejaVuSans-112\"/>\r\n      <path d=\"M 30.609375 48.390625 \r\nQ 23.390625 48.390625 19.1875 42.75 \r\nQ 14.984375 37.109375 14.984375 27.296875 \r\nQ 14.984375 17.484375 19.15625 11.84375 \r\nQ 23.34375 6.203125 30.609375 6.203125 \r\nQ 37.796875 6.203125 41.984375 11.859375 \r\nQ 46.1875 17.53125 46.1875 27.296875 \r\nQ 46.1875 37.015625 41.984375 42.703125 \r\nQ 37.796875 48.390625 30.609375 48.390625 \r\nz\r\nM 30.609375 56 \r\nQ 42.328125 56 49.015625 48.375 \r\nQ 55.71875 40.765625 55.71875 27.296875 \r\nQ 55.71875 13.875 49.015625 6.21875 \r\nQ 42.328125 -1.421875 30.609375 -1.421875 \r\nQ 18.84375 -1.421875 12.171875 6.21875 \r\nQ 5.515625 13.875 5.515625 27.296875 \r\nQ 5.515625 40.765625 12.171875 48.375 \r\nQ 18.84375 56 30.609375 56 \r\nz\r\n\" id=\"DejaVuSans-111\"/>\r\n      <path d=\"M 48.78125 52.59375 \r\nL 48.78125 44.1875 \r\nQ 44.96875 46.296875 41.140625 47.34375 \r\nQ 37.3125 48.390625 33.40625 48.390625 \r\nQ 24.65625 48.390625 19.8125 42.84375 \r\nQ 14.984375 37.3125 14.984375 27.296875 \r\nQ 14.984375 17.28125 19.8125 11.734375 \r\nQ 24.65625 6.203125 33.40625 6.203125 \r\nQ 37.3125 6.203125 41.140625 7.25 \r\nQ 44.96875 8.296875 48.78125 10.40625 \r\nL 48.78125 2.09375 \r\nQ 45.015625 0.34375 40.984375 -0.53125 \r\nQ 36.96875 -1.421875 32.421875 -1.421875 \r\nQ 20.0625 -1.421875 12.78125 6.34375 \r\nQ 5.515625 14.109375 5.515625 27.296875 \r\nQ 5.515625 40.671875 12.859375 48.328125 \r\nQ 20.21875 56 33.015625 56 \r\nQ 37.15625 56 41.109375 55.140625 \r\nQ 45.0625 54.296875 48.78125 52.59375 \r\nz\r\n\" id=\"DejaVuSans-99\"/>\r\n      <path d=\"M 54.890625 33.015625 \r\nL 54.890625 0 \r\nL 45.90625 0 \r\nL 45.90625 32.71875 \r\nQ 45.90625 40.484375 42.875 44.328125 \r\nQ 39.84375 48.1875 33.796875 48.1875 \r\nQ 26.515625 48.1875 22.3125 43.546875 \r\nQ 18.109375 38.921875 18.109375 30.90625 \r\nL 18.109375 0 \r\nL 9.078125 0 \r\nL 9.078125 75.984375 \r\nL 18.109375 75.984375 \r\nL 18.109375 46.1875 \r\nQ 21.34375 51.125 25.703125 53.5625 \r\nQ 30.078125 56 35.796875 56 \r\nQ 45.21875 56 50.046875 50.171875 \r\nQ 54.890625 44.34375 54.890625 33.015625 \r\nz\r\n\" id=\"DejaVuSans-104\"/>\r\n     </defs>\r\n     <g transform=\"translate(195.870313 256.715781)scale(0.1 -0.1)\">\r\n      <use xlink:href=\"#DejaVuSans-69\"/>\r\n      <use x=\"63.183594\" xlink:href=\"#DejaVuSans-112\"/>\r\n      <use x=\"126.660156\" xlink:href=\"#DejaVuSans-111\"/>\r\n      <use x=\"187.841797\" xlink:href=\"#DejaVuSans-99\"/>\r\n      <use x=\"242.822266\" xlink:href=\"#DejaVuSans-104\"/>\r\n     </g>\r\n    </g>\r\n   </g>\r\n   <g id=\"matplotlib.axis_2\">\r\n    <g id=\"ytick_1\">\r\n     <g id=\"line2d_8\">\r\n      <defs>\r\n       <path d=\"M 0 0 \r\nL -3.5 0 \r\n\" id=\"ma50aa47abd\" style=\"stroke:#000000;stroke-width:0.8;\"/>\r\n      </defs>\r\n      <g>\r\n       <use style=\"stroke:#000000;stroke-width:0.8;\" x=\"43.78125\" xlink:href=\"#ma50aa47abd\" y=\"228.439219\"/>\r\n      </g>\r\n     </g>\r\n     <g id=\"text_9\">\r\n      <!-- 0.5 -->\r\n      <defs>\r\n       <path d=\"M 10.6875 12.40625 \r\nL 21 12.40625 \r\nL 21 0 \r\nL 10.6875 0 \r\nz\r\n\" id=\"DejaVuSans-46\"/>\r\n      </defs>\r\n      <g transform=\"translate(20.878125 232.238437)scale(0.1 -0.1)\">\r\n       <use xlink:href=\"#DejaVuSans-48\"/>\r\n       <use x=\"63.623047\" xlink:href=\"#DejaVuSans-46\"/>\r\n       <use x=\"95.410156\" xlink:href=\"#DejaVuSans-53\"/>\r\n      </g>\r\n     </g>\r\n    </g>\r\n    <g id=\"ytick_2\">\r\n     <g id=\"line2d_9\">\r\n      <g>\r\n       <use style=\"stroke:#000000;stroke-width:0.8;\" x=\"43.78125\" xlink:href=\"#ma50aa47abd\" y=\"184.951219\"/>\r\n      </g>\r\n     </g>\r\n     <g id=\"text_10\">\r\n      <!-- 0.6 -->\r\n      <defs>\r\n       <path d=\"M 33.015625 40.375 \r\nQ 26.375 40.375 22.484375 35.828125 \r\nQ 18.609375 31.296875 18.609375 23.390625 \r\nQ 18.609375 15.53125 22.484375 10.953125 \r\nQ 26.375 6.390625 33.015625 6.390625 \r\nQ 39.65625 6.390625 43.53125 10.953125 \r\nQ 47.40625 15.53125 47.40625 23.390625 \r\nQ 47.40625 31.296875 43.53125 35.828125 \r\nQ 39.65625 40.375 33.015625 40.375 \r\nz\r\nM 52.59375 71.296875 \r\nL 52.59375 62.3125 \r\nQ 48.875 64.0625 45.09375 64.984375 \r\nQ 41.3125 65.921875 37.59375 65.921875 \r\nQ 27.828125 65.921875 22.671875 59.328125 \r\nQ 17.53125 52.734375 16.796875 39.40625 \r\nQ 19.671875 43.65625 24.015625 45.921875 \r\nQ 28.375 48.1875 33.59375 48.1875 \r\nQ 44.578125 48.1875 50.953125 41.515625 \r\nQ 57.328125 34.859375 57.328125 23.390625 \r\nQ 57.328125 12.15625 50.6875 5.359375 \r\nQ 44.046875 -1.421875 33.015625 -1.421875 \r\nQ 20.359375 -1.421875 13.671875 8.265625 \r\nQ 6.984375 17.96875 6.984375 36.375 \r\nQ 6.984375 53.65625 15.1875 63.9375 \r\nQ 23.390625 74.21875 37.203125 74.21875 \r\nQ 40.921875 74.21875 44.703125 73.484375 \r\nQ 48.484375 72.75 52.59375 71.296875 \r\nz\r\n\" id=\"DejaVuSans-54\"/>\r\n      </defs>\r\n      <g transform=\"translate(20.878125 188.750437)scale(0.1 -0.1)\">\r\n       <use xlink:href=\"#DejaVuSans-48\"/>\r\n       <use x=\"63.623047\" xlink:href=\"#DejaVuSans-46\"/>\r\n       <use x=\"95.410156\" xlink:href=\"#DejaVuSans-54\"/>\r\n      </g>\r\n     </g>\r\n    </g>\r\n    <g id=\"ytick_3\">\r\n     <g id=\"line2d_10\">\r\n      <g>\r\n       <use style=\"stroke:#000000;stroke-width:0.8;\" x=\"43.78125\" xlink:href=\"#ma50aa47abd\" y=\"141.463219\"/>\r\n      </g>\r\n     </g>\r\n     <g id=\"text_11\">\r\n      <!-- 0.7 -->\r\n      <defs>\r\n       <path d=\"M 8.203125 72.90625 \r\nL 55.078125 72.90625 \r\nL 55.078125 68.703125 \r\nL 28.609375 0 \r\nL 18.3125 0 \r\nL 43.21875 64.59375 \r\nL 8.203125 64.59375 \r\nz\r\n\" id=\"DejaVuSans-55\"/>\r\n      </defs>\r\n      <g transform=\"translate(20.878125 145.262437)scale(0.1 -0.1)\">\r\n       <use xlink:href=\"#DejaVuSans-48\"/>\r\n       <use x=\"63.623047\" xlink:href=\"#DejaVuSans-46\"/>\r\n       <use x=\"95.410156\" xlink:href=\"#DejaVuSans-55\"/>\r\n      </g>\r\n     </g>\r\n    </g>\r\n    <g id=\"ytick_4\">\r\n     <g id=\"line2d_11\">\r\n      <g>\r\n       <use style=\"stroke:#000000;stroke-width:0.8;\" x=\"43.78125\" xlink:href=\"#ma50aa47abd\" y=\"97.975219\"/>\r\n      </g>\r\n     </g>\r\n     <g id=\"text_12\">\r\n      <!-- 0.8 -->\r\n      <defs>\r\n       <path d=\"M 31.78125 34.625 \r\nQ 24.75 34.625 20.71875 30.859375 \r\nQ 16.703125 27.09375 16.703125 20.515625 \r\nQ 16.703125 13.921875 20.71875 10.15625 \r\nQ 24.75 6.390625 31.78125 6.390625 \r\nQ 38.8125 6.390625 42.859375 10.171875 \r\nQ 46.921875 13.96875 46.921875 20.515625 \r\nQ 46.921875 27.09375 42.890625 30.859375 \r\nQ 38.875 34.625 31.78125 34.625 \r\nz\r\nM 21.921875 38.8125 \r\nQ 15.578125 40.375 12.03125 44.71875 \r\nQ 8.5 49.078125 8.5 55.328125 \r\nQ 8.5 64.0625 14.71875 69.140625 \r\nQ 20.953125 74.21875 31.78125 74.21875 \r\nQ 42.671875 74.21875 48.875 69.140625 \r\nQ 55.078125 64.0625 55.078125 55.328125 \r\nQ 55.078125 49.078125 51.53125 44.71875 \r\nQ 48 40.375 41.703125 38.8125 \r\nQ 48.828125 37.15625 52.796875 32.3125 \r\nQ 56.78125 27.484375 56.78125 20.515625 \r\nQ 56.78125 9.90625 50.3125 4.234375 \r\nQ 43.84375 -1.421875 31.78125 -1.421875 \r\nQ 19.734375 -1.421875 13.25 4.234375 \r\nQ 6.78125 9.90625 6.78125 20.515625 \r\nQ 6.78125 27.484375 10.78125 32.3125 \r\nQ 14.796875 37.15625 21.921875 38.8125 \r\nz\r\nM 18.3125 54.390625 \r\nQ 18.3125 48.734375 21.84375 45.5625 \r\nQ 25.390625 42.390625 31.78125 42.390625 \r\nQ 38.140625 42.390625 41.71875 45.5625 \r\nQ 45.3125 48.734375 45.3125 54.390625 \r\nQ 45.3125 60.0625 41.71875 63.234375 \r\nQ 38.140625 66.40625 31.78125 66.40625 \r\nQ 25.390625 66.40625 21.84375 63.234375 \r\nQ 18.3125 60.0625 18.3125 54.390625 \r\nz\r\n\" id=\"DejaVuSans-56\"/>\r\n      </defs>\r\n      <g transform=\"translate(20.878125 101.774437)scale(0.1 -0.1)\">\r\n       <use xlink:href=\"#DejaVuSans-48\"/>\r\n       <use x=\"63.623047\" xlink:href=\"#DejaVuSans-46\"/>\r\n       <use x=\"95.410156\" xlink:href=\"#DejaVuSans-56\"/>\r\n      </g>\r\n     </g>\r\n    </g>\r\n    <g id=\"ytick_5\">\r\n     <g id=\"line2d_12\">\r\n      <g>\r\n       <use style=\"stroke:#000000;stroke-width:0.8;\" x=\"43.78125\" xlink:href=\"#ma50aa47abd\" y=\"54.487219\"/>\r\n      </g>\r\n     </g>\r\n     <g id=\"text_13\">\r\n      <!-- 0.9 -->\r\n      <defs>\r\n       <path d=\"M 10.984375 1.515625 \r\nL 10.984375 10.5 \r\nQ 14.703125 8.734375 18.5 7.8125 \r\nQ 22.3125 6.890625 25.984375 6.890625 \r\nQ 35.75 6.890625 40.890625 13.453125 \r\nQ 46.046875 20.015625 46.78125 33.40625 \r\nQ 43.953125 29.203125 39.59375 26.953125 \r\nQ 35.25 24.703125 29.984375 24.703125 \r\nQ 19.046875 24.703125 12.671875 31.3125 \r\nQ 6.296875 37.9375 6.296875 49.421875 \r\nQ 6.296875 60.640625 12.9375 67.421875 \r\nQ 19.578125 74.21875 30.609375 74.21875 \r\nQ 43.265625 74.21875 49.921875 64.515625 \r\nQ 56.59375 54.828125 56.59375 36.375 \r\nQ 56.59375 19.140625 48.40625 8.859375 \r\nQ 40.234375 -1.421875 26.421875 -1.421875 \r\nQ 22.703125 -1.421875 18.890625 -0.6875 \r\nQ 15.09375 0.046875 10.984375 1.515625 \r\nz\r\nM 30.609375 32.421875 \r\nQ 37.25 32.421875 41.125 36.953125 \r\nQ 45.015625 41.5 45.015625 49.421875 \r\nQ 45.015625 57.28125 41.125 61.84375 \r\nQ 37.25 66.40625 30.609375 66.40625 \r\nQ 23.96875 66.40625 20.09375 61.84375 \r\nQ 16.21875 57.28125 16.21875 49.421875 \r\nQ 16.21875 41.5 20.09375 36.953125 \r\nQ 23.96875 32.421875 30.609375 32.421875 \r\nz\r\n\" id=\"DejaVuSans-57\"/>\r\n      </defs>\r\n      <g transform=\"translate(20.878125 58.286437)scale(0.1 -0.1)\">\r\n       <use xlink:href=\"#DejaVuSans-48\"/>\r\n       <use x=\"63.623047\" xlink:href=\"#DejaVuSans-46\"/>\r\n       <use x=\"95.410156\" xlink:href=\"#DejaVuSans-57\"/>\r\n      </g>\r\n     </g>\r\n    </g>\r\n    <g id=\"ytick_6\">\r\n     <g id=\"line2d_13\">\r\n      <g>\r\n       <use style=\"stroke:#000000;stroke-width:0.8;\" x=\"43.78125\" xlink:href=\"#ma50aa47abd\" y=\"10.999219\"/>\r\n      </g>\r\n     </g>\r\n     <g id=\"text_14\">\r\n      <!-- 1.0 -->\r\n      <g transform=\"translate(20.878125 14.798437)scale(0.1 -0.1)\">\r\n       <use xlink:href=\"#DejaVuSans-49\"/>\r\n       <use x=\"63.623047\" xlink:href=\"#DejaVuSans-46\"/>\r\n       <use x=\"95.410156\" xlink:href=\"#DejaVuSans-48\"/>\r\n      </g>\r\n     </g>\r\n    </g>\r\n    <g id=\"text_15\">\r\n     <!-- Accuracy -->\r\n     <defs>\r\n      <path d=\"M 34.1875 63.1875 \r\nL 20.796875 26.90625 \r\nL 47.609375 26.90625 \r\nz\r\nM 28.609375 72.90625 \r\nL 39.796875 72.90625 \r\nL 67.578125 0 \r\nL 57.328125 0 \r\nL 50.6875 18.703125 \r\nL 17.828125 18.703125 \r\nL 11.1875 0 \r\nL 0.78125 0 \r\nz\r\n\" id=\"DejaVuSans-65\"/>\r\n      <path d=\"M 8.5 21.578125 \r\nL 8.5 54.6875 \r\nL 17.484375 54.6875 \r\nL 17.484375 21.921875 \r\nQ 17.484375 14.15625 20.5 10.265625 \r\nQ 23.53125 6.390625 29.59375 6.390625 \r\nQ 36.859375 6.390625 41.078125 11.03125 \r\nQ 45.3125 15.671875 45.3125 23.6875 \r\nL 45.3125 54.6875 \r\nL 54.296875 54.6875 \r\nL 54.296875 0 \r\nL 45.3125 0 \r\nL 45.3125 8.40625 \r\nQ 42.046875 3.421875 37.71875 1 \r\nQ 33.40625 -1.421875 27.6875 -1.421875 \r\nQ 18.265625 -1.421875 13.375 4.4375 \r\nQ 8.5 10.296875 8.5 21.578125 \r\nz\r\nM 31.109375 56 \r\nz\r\n\" id=\"DejaVuSans-117\"/>\r\n      <path d=\"M 41.109375 46.296875 \r\nQ 39.59375 47.171875 37.8125 47.578125 \r\nQ 36.03125 48 33.890625 48 \r\nQ 26.265625 48 22.1875 43.046875 \r\nQ 18.109375 38.09375 18.109375 28.8125 \r\nL 18.109375 0 \r\nL 9.078125 0 \r\nL 9.078125 54.6875 \r\nL 18.109375 54.6875 \r\nL 18.109375 46.1875 \r\nQ 20.953125 51.171875 25.484375 53.578125 \r\nQ 30.03125 56 36.53125 56 \r\nQ 37.453125 56 38.578125 55.875 \r\nQ 39.703125 55.765625 41.0625 55.515625 \r\nz\r\n\" id=\"DejaVuSans-114\"/>\r\n      <path d=\"M 34.28125 27.484375 \r\nQ 23.390625 27.484375 19.1875 25 \r\nQ 14.984375 22.515625 14.984375 16.5 \r\nQ 14.984375 11.71875 18.140625 8.90625 \r\nQ 21.296875 6.109375 26.703125 6.109375 \r\nQ 34.1875 6.109375 38.703125 11.40625 \r\nQ 43.21875 16.703125 43.21875 25.484375 \r\nL 43.21875 27.484375 \r\nz\r\nM 52.203125 31.203125 \r\nL 52.203125 0 \r\nL 43.21875 0 \r\nL 43.21875 8.296875 \r\nQ 40.140625 3.328125 35.546875 0.953125 \r\nQ 30.953125 -1.421875 24.3125 -1.421875 \r\nQ 15.921875 -1.421875 10.953125 3.296875 \r\nQ 6 8.015625 6 15.921875 \r\nQ 6 25.140625 12.171875 29.828125 \r\nQ 18.359375 34.515625 30.609375 34.515625 \r\nL 43.21875 34.515625 \r\nL 43.21875 35.40625 \r\nQ 43.21875 41.609375 39.140625 45 \r\nQ 35.0625 48.390625 27.6875 48.390625 \r\nQ 23 48.390625 18.546875 47.265625 \r\nQ 14.109375 46.140625 10.015625 43.890625 \r\nL 10.015625 52.203125 \r\nQ 14.9375 54.109375 19.578125 55.046875 \r\nQ 24.21875 56 28.609375 56 \r\nQ 40.484375 56 46.34375 49.84375 \r\nQ 52.203125 43.703125 52.203125 31.203125 \r\nz\r\n\" id=\"DejaVuSans-97\"/>\r\n      <path d=\"M 32.171875 -5.078125 \r\nQ 28.375 -14.84375 24.75 -17.8125 \r\nQ 21.140625 -20.796875 15.09375 -20.796875 \r\nL 7.90625 -20.796875 \r\nL 7.90625 -13.28125 \r\nL 13.1875 -13.28125 \r\nQ 16.890625 -13.28125 18.9375 -11.515625 \r\nQ 21 -9.765625 23.484375 -3.21875 \r\nL 25.09375 0.875 \r\nL 2.984375 54.6875 \r\nL 12.5 54.6875 \r\nL 29.59375 11.921875 \r\nL 46.6875 54.6875 \r\nL 56.203125 54.6875 \r\nz\r\n\" id=\"DejaVuSans-121\"/>\r\n     </defs>\r\n     <g transform=\"translate(14.798438 142.547344)rotate(-90)scale(0.1 -0.1)\">\r\n      <use xlink:href=\"#DejaVuSans-65\"/>\r\n      <use x=\"66.658203\" xlink:href=\"#DejaVuSans-99\"/>\r\n      <use x=\"121.638672\" xlink:href=\"#DejaVuSans-99\"/>\r\n      <use x=\"176.619141\" xlink:href=\"#DejaVuSans-117\"/>\r\n      <use x=\"239.998047\" xlink:href=\"#DejaVuSans-114\"/>\r\n      <use x=\"281.111328\" xlink:href=\"#DejaVuSans-97\"/>\r\n      <use x=\"342.390625\" xlink:href=\"#DejaVuSans-99\"/>\r\n      <use x=\"397.371094\" xlink:href=\"#DejaVuSans-121\"/>\r\n     </g>\r\n    </g>\r\n   </g>\r\n   <g id=\"line2d_14\">\r\n    <path clip-path=\"url(#p14a551bfd8)\" d=\"M 58.999432 170.46655 \r\nL 69.49473 153.805782 \r\nL 79.990027 104.16351 \r\nL 90.485325 84.442602 \r\nL 100.980623 87.502742 \r\nL 111.475921 90.902886 \r\nL 121.971219 86.822708 \r\nL 132.466516 80.022395 \r\nL 142.961814 69.481907 \r\nL 153.457112 59.961483 \r\nL 163.95241 54.861241 \r\nL 174.447708 48.400932 \r\nL 184.943005 46.70086 \r\nL 195.438303 46.020826 \r\nL 205.933601 45.680822 \r\nL 216.428899 45.680822 \r\nL 226.924197 45.680822 \r\nL 237.419495 42.960686 \r\nL 247.914792 43.300716 \r\nL 258.41009 42.960686 \r\nL 268.905388 41.940648 \r\nL 279.400686 40.58058 \r\nL 289.895984 40.58058 \r\nL 300.391281 39.560542 \r\nL 310.886579 38.880508 \r\nL 321.381877 37.860444 \r\nL 331.877175 37.18041 \r\nL 342.372473 36.840406 \r\nL 352.86777 36.160372 \r\nL 363.363068 35.820368 \r\n\" style=\"fill:none;stroke:#1f77b4;stroke-linecap:square;stroke-width:1.5;\"/>\r\n   </g>\r\n   <g id=\"line2d_15\">\r\n    <path clip-path=\"url(#p14a551bfd8)\" d=\"M 58.999432 144.729927 \r\nL 69.49473 120.229652 \r\nL 79.990027 75.312469 \r\nL 90.485325 78.374994 \r\nL 100.980623 84.500069 \r\nL 111.475921 81.437518 \r\nL 121.971219 80.416677 \r\nL 132.466516 72.249919 \r\nL 142.961814 67.145685 \r\nL 153.457112 62.041477 \r\nL 163.95241 56.937244 \r\nL 174.447708 51.83301 \r\nL 184.943005 50.812168 \r\nL 195.438303 50.812168 \r\nL 205.933601 51.83301 \r\nL 216.428899 51.83301 \r\nL 226.924197 50.812168 \r\nL 237.419495 48.770485 \r\nL 247.914792 48.770485 \r\nL 258.41009 46.728802 \r\nL 268.905388 45.707961 \r\nL 279.400686 44.687093 \r\nL 289.895984 44.687093 \r\nL 300.391281 44.687093 \r\nL 310.886579 43.666252 \r\nL 321.381877 43.666252 \r\nL 331.877175 43.666252 \r\nL 342.372473 43.666252 \r\nL 352.86777 42.64541 \r\nL 363.363068 42.64541 \r\n\" style=\"fill:none;stroke:#ff7f0e;stroke-linecap:square;stroke-width:1.5;\"/>\r\n   </g>\r\n   <g id=\"patch_3\">\r\n    <path d=\"M 43.78125 228.439219 \r\nL 43.78125 10.999219 \r\n\" style=\"fill:none;stroke:#000000;stroke-linecap:square;stroke-linejoin:miter;stroke-width:0.8;\"/>\r\n   </g>\r\n   <g id=\"patch_4\">\r\n    <path d=\"M 378.58125 228.439219 \r\nL 378.58125 10.999219 \r\n\" style=\"fill:none;stroke:#000000;stroke-linecap:square;stroke-linejoin:miter;stroke-width:0.8;\"/>\r\n   </g>\r\n   <g id=\"patch_5\">\r\n    <path d=\"M 43.78125 228.439219 \r\nL 378.58125 228.439219 \r\n\" style=\"fill:none;stroke:#000000;stroke-linecap:square;stroke-linejoin:miter;stroke-width:0.8;\"/>\r\n   </g>\r\n   <g id=\"patch_6\">\r\n    <path d=\"M 43.78125 10.999219 \r\nL 378.58125 10.999219 \r\n\" style=\"fill:none;stroke:#000000;stroke-linecap:square;stroke-linejoin:miter;stroke-width:0.8;\"/>\r\n   </g>\r\n   <g id=\"legend_1\">\r\n    <g id=\"patch_7\">\r\n     <path d=\"M 274.6375 223.439219 \r\nL 371.58125 223.439219 \r\nQ 373.58125 223.439219 373.58125 221.439219 \r\nL 373.58125 192.804844 \r\nQ 373.58125 190.804844 371.58125 190.804844 \r\nL 274.6375 190.804844 \r\nQ 272.6375 190.804844 272.6375 192.804844 \r\nL 272.6375 221.439219 \r\nQ 272.6375 223.439219 274.6375 223.439219 \r\nz\r\n\" style=\"fill:#ffffff;opacity:0.8;stroke:#cccccc;stroke-linejoin:miter;\"/>\r\n    </g>\r\n    <g id=\"line2d_16\">\r\n     <path d=\"M 276.6375 198.903281 \r\nL 296.6375 198.903281 \r\n\" style=\"fill:none;stroke:#1f77b4;stroke-linecap:square;stroke-width:1.5;\"/>\r\n    </g>\r\n    <g id=\"line2d_17\"/>\r\n    <g id=\"text_16\">\r\n     <!-- accuracy -->\r\n     <g transform=\"translate(304.6375 202.403281)scale(0.1 -0.1)\">\r\n      <use xlink:href=\"#DejaVuSans-97\"/>\r\n      <use x=\"61.279297\" xlink:href=\"#DejaVuSans-99\"/>\r\n      <use x=\"116.259766\" xlink:href=\"#DejaVuSans-99\"/>\r\n      <use x=\"171.240234\" xlink:href=\"#DejaVuSans-117\"/>\r\n      <use x=\"234.619141\" xlink:href=\"#DejaVuSans-114\"/>\r\n      <use x=\"275.732422\" xlink:href=\"#DejaVuSans-97\"/>\r\n      <use x=\"337.011719\" xlink:href=\"#DejaVuSans-99\"/>\r\n      <use x=\"391.992188\" xlink:href=\"#DejaVuSans-121\"/>\r\n     </g>\r\n    </g>\r\n    <g id=\"line2d_18\">\r\n     <path d=\"M 276.6375 213.581406 \r\nL 296.6375 213.581406 \r\n\" style=\"fill:none;stroke:#ff7f0e;stroke-linecap:square;stroke-width:1.5;\"/>\r\n    </g>\r\n    <g id=\"line2d_19\"/>\r\n    <g id=\"text_17\">\r\n     <!-- val_accuracy -->\r\n     <defs>\r\n      <path d=\"M 2.984375 54.6875 \r\nL 12.5 54.6875 \r\nL 29.59375 8.796875 \r\nL 46.6875 54.6875 \r\nL 56.203125 54.6875 \r\nL 35.6875 0 \r\nL 23.484375 0 \r\nz\r\n\" id=\"DejaVuSans-118\"/>\r\n      <path d=\"M 9.421875 75.984375 \r\nL 18.40625 75.984375 \r\nL 18.40625 0 \r\nL 9.421875 0 \r\nz\r\n\" id=\"DejaVuSans-108\"/>\r\n      <path d=\"M 50.984375 -16.609375 \r\nL 50.984375 -23.578125 \r\nL -0.984375 -23.578125 \r\nL -0.984375 -16.609375 \r\nz\r\n\" id=\"DejaVuSans-95\"/>\r\n     </defs>\r\n     <g transform=\"translate(304.6375 217.081406)scale(0.1 -0.1)\">\r\n      <use xlink:href=\"#DejaVuSans-118\"/>\r\n      <use x=\"59.179688\" xlink:href=\"#DejaVuSans-97\"/>\r\n      <use x=\"120.458984\" xlink:href=\"#DejaVuSans-108\"/>\r\n      <use x=\"148.242188\" xlink:href=\"#DejaVuSans-95\"/>\r\n      <use x=\"198.242188\" xlink:href=\"#DejaVuSans-97\"/>\r\n      <use x=\"259.521484\" xlink:href=\"#DejaVuSans-99\"/>\r\n      <use x=\"314.501953\" xlink:href=\"#DejaVuSans-99\"/>\r\n      <use x=\"369.482422\" xlink:href=\"#DejaVuSans-117\"/>\r\n      <use x=\"432.861328\" xlink:href=\"#DejaVuSans-114\"/>\r\n      <use x=\"473.974609\" xlink:href=\"#DejaVuSans-97\"/>\r\n      <use x=\"535.253906\" xlink:href=\"#DejaVuSans-99\"/>\r\n      <use x=\"590.234375\" xlink:href=\"#DejaVuSans-121\"/>\r\n     </g>\r\n    </g>\r\n   </g>\r\n  </g>\r\n </g>\r\n <defs>\r\n  <clipPath id=\"p14a551bfd8\">\r\n   <rect height=\"217.44\" width=\"334.8\" x=\"43.78125\" y=\"10.999219\"/>\r\n  </clipPath>\r\n </defs>\r\n</svg>\r\n",
      "image/png": "[encoded data removed]"
     },
     "metadata": {
      "needs_background": "light"
     }
    }
   ],
   "source": [
    "plt.plot(history.history['accuracy'], label='accuracy')\n",
    "plt.plot(history.history['val_accuracy'], label = 'val_accuracy')\n",
    "plt.xlabel('Epoch')\n",
    "plt.ylabel('Accuracy')\n",
    "plt.ylim([0.5, 1])\n",
    "plt.legend(loc='lower right')"
   ]
  },
  {
   "cell_type": "code",
   "execution_count": 73,
   "metadata": {},
   "outputs": [
    {
     "output_type": "stream",
     "name": "stdout",
     "text": "14/14 - 0s - loss: 0.7053 - accuracy: 0.9040\n"
    }
   ],
   "source": [
    "test_loss, test_acc = model.evaluate(test,  test_labels, verbose=2)"
   ]
  },
  {
   "cell_type": "code",
   "execution_count": 74,
   "metadata": {},
   "outputs": [
    {
     "output_type": "execute_result",
     "data": {
      "text/plain": "array([0, 2, 0, 2, 2, 2, 2, 1, 2, 0, 1, 1, 1, 1, 0, 0, 1, 2, 1, 2, 1, 1,\n       1, 0, 2, 2, 1, 2, 1, 0, 0, 1, 0, 1, 1, 0, 2, 0, 1, 2, 0, 1, 0, 0,\n       1, 0, 2, 1, 2, 2])"
     },
     "metadata": {},
     "execution_count": 74
    }
   ],
   "source": [
    "test_labels[:50]"
   ]
  },
  {
   "cell_type": "code",
   "execution_count": 76,
   "metadata": {},
   "outputs": [
    {
     "output_type": "stream",
     "name": "stdout",
     "text": "(427, 3)\nPOSITIVE POSITIVE\nNEGATIVE NEGATIVE\nPOSITIVE POSITIVE\nNEGATIVE NEGATIVE\nNEGATIVE NEGATIVE\nNEGATIVE NEGATIVE\nNEGATIVE NEGATIVE\nPOSITIVE NEUTRAL\nNEGATIVE NEGATIVE\nNEUTRAL POSITIVE\nNEUTRAL NEUTRAL\nNEUTRAL NEUTRAL\nNEUTRAL NEUTRAL\nNEUTRAL NEUTRAL\nPOSITIVE POSITIVE\nPOSITIVE POSITIVE\nNEUTRAL NEUTRAL\nNEGATIVE NEGATIVE\nNEUTRAL NEUTRAL\nNEGATIVE NEGATIVE\nPOSITIVE NEUTRAL\nNEUTRAL NEUTRAL\nNEUTRAL NEUTRAL\nPOSITIVE POSITIVE\nNEGATIVE NEGATIVE\nNEGATIVE NEGATIVE\nNEUTRAL NEUTRAL\nNEGATIVE NEGATIVE\nNEUTRAL NEUTRAL\nPOSITIVE POSITIVE\nNEUTRAL POSITIVE\nNEUTRAL NEUTRAL\nNEUTRAL POSITIVE\nNEUTRAL NEUTRAL\nNEUTRAL NEUTRAL\nPOSITIVE POSITIVE\nNEGATIVE NEGATIVE\nNEGATIVE POSITIVE\nNEUTRAL NEUTRAL\nNEGATIVE NEGATIVE\nPOSITIVE POSITIVE\nNEUTRAL NEUTRAL\nPOSITIVE POSITIVE\nPOSITIVE POSITIVE\nNEUTRAL NEUTRAL\nPOSITIVE POSITIVE\nNEGATIVE NEGATIVE\nNEUTRAL NEUTRAL\nNEGATIVE NEGATIVE\nNEGATIVE NEGATIVE\n"
    }
   ],
   "source": [
    "# prediction = model.predict(np.expand_dims(test[0], axis=0))\n",
    "prediction = model.predict(test)\n",
    "print(prediction.shape)\n",
    "for (index,p) in enumerate(prediction[:50]):\n",
    "    # print(p)\n",
    "    print(class_labels.int2str(np.argmax(p)), class_labels.int2str(test_labels[index]))\n",
    "    # print(np.argmax(prediction))"
   ]
  }
 ],
 "metadata": {
  "kernelspec": {
   "display_name": "Python 3",
   "language": "python",
   "name": "python3"
  },
  "language_info": {
   "codemirror_mode": {
    "name": "ipython",
    "version": 3
   },
   "file_extension": ".py",
   "mimetype": "text/x-python",
   "name": "python",
   "nbconvert_exporter": "python",
   "pygments_lexer": "ipython3",
   "version": "3.8.1"
  }
 },
 "nbformat": 4,
 "nbformat_minor": 4
}