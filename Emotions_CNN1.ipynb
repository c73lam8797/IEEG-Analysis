{
 "cells": [
  {
   "cell_type": "code",
   "execution_count": 87,
   "metadata": {},
   "outputs": [],
   "source": [
    "import tensorflow as tf\n",
    "from tensorflow.keras import layers\n",
    "import tensorflow_datasets as tfds\n",
    "import numpy as np\n",
    "import pandas as pd\n",
    "import matplotlib.pyplot as plt\n",
    "from tensorflow.keras import *"
   ]
  },
  {
   "cell_type": "code",
   "execution_count": 88,
   "metadata": {},
   "outputs": [],
   "source": [
    "df = pd.read_csv(\"./DATA/Emotions/emotions.csv\")"
   ]
  },
  {
   "cell_type": "code",
   "execution_count": 89,
   "metadata": {},
   "outputs": [
    {
     "output_type": "stream",
     "name": "stdout",
     "text": "2132 2549\n"
    }
   ],
   "source": [
    "num_columns = len(df.columns)\n",
    "print(len(df.index), num_columns)"
   ]
  },
  {
   "cell_type": "code",
   "execution_count": 90,
   "metadata": {},
   "outputs": [],
   "source": [
    "def unison_shuffled_copies(a, b):\n",
    "    assert len(a) == len(b)\n",
    "    p = np.random.permutation(len(a))\n",
    "    return a[p], b[p]\n",
    "\n",
    "def Oversample(data, labels):\n",
    "    zeros = []\n",
    "    ones = []\n",
    "    for (index, label) in enumerate(labels):\n",
    "        if label == 0:\n",
    "            zeros.append(data[index])\n",
    "        else:\n",
    "            ones.append(data[index])\n",
    "\n",
    "    zeros, ones = np.array(zeros), np.array(ones)\n",
    "    ids = np.arange(len(ones))\n",
    "    choices = np.random.choice(ids, len(zeros)) #choose entries from so that number of ones and zeroes are the same \n",
    "\n",
    "    res_ones_features = ones[choices]\n",
    "    res_ones_labels = np.ones(len(res_ones_features))\n",
    "\n",
    "    resampled_features = np.concatenate([res_ones_features, zeros], axis=0)\n",
    "    resampled_labels = np.concatenate([res_ones_labels, np.zeros(len(zeros))], axis=0)\n",
    "\n",
    "    return unison_shuffled_copies(resampled_features, resampled_labels)\n",
    "        "
   ]
  },
  {
   "cell_type": "code",
   "execution_count": 91,
   "metadata": {},
   "outputs": [
    {
     "output_type": "execute_result",
     "data": {
      "text/plain": "   # mean_0_a  mean_1_a  mean_2_a  mean_3_a  mean_4_a  mean_d_0_a  mean_d_1_a  \\\n0        4.62      30.3    -356.0      15.6      26.3       1.070       0.411   \n1       28.80      33.1      32.0      25.8      22.8       6.550       1.680   \n2        8.90      29.4    -416.0      16.7      23.7      79.900       3.360   \n3       14.90      31.6    -143.0      19.8      24.3      -0.584      -0.284   \n4       28.30      31.3      45.2      27.3      24.5      34.800      -5.790   \n\n   mean_d_2_a  mean_d_3_a  mean_d_4_a  ...  fft_741_b  fft_742_b  fft_743_b  \\\n0      -15.70        2.06        3.15  ...       23.5       20.3       20.3   \n1        2.88        3.83       -4.82  ...      -23.3      -21.8      -21.8   \n2       90.20       89.90        2.03  ...      462.0     -233.0     -233.0   \n3        8.82        2.30       -1.97  ...      299.0     -243.0     -243.0   \n4        3.06       41.40        5.52  ...       12.0       38.1       38.1   \n\n   fft_744_b  fft_745_b  fft_746_b  fft_747_b  fft_748_b  fft_749_b     label  \n0       23.5     -215.0     280.00    -162.00    -162.00     280.00  NEGATIVE  \n1      -23.3      182.0       2.57     -31.60     -31.60       2.57   NEUTRAL  \n2      462.0     -267.0     281.00    -148.00    -148.00     281.00  POSITIVE  \n3      299.0      132.0     -12.40       9.53       9.53     -12.40  POSITIVE  \n4       12.0      119.0     -17.60      23.90      23.90     -17.60   NEUTRAL  \n\n[5 rows x 2549 columns]",
      "text/html": "<div>\n<style scoped>\n    .dataframe tbody tr th:only-of-type {\n        vertical-align: middle;\n    }\n\n    .dataframe tbody tr th {\n        vertical-align: top;\n    }\n\n    .dataframe thead th {\n        text-align: right;\n    }\n</style>\n<table border=\"1\" class=\"dataframe\">\n  <thead>\n    <tr style=\"text-align: right;\">\n      <th></th>\n      <th># mean_0_a</th>\n      <th>mean_1_a</th>\n      <th>mean_2_a</th>\n      <th>mean_3_a</th>\n      <th>mean_4_a</th>\n      <th>mean_d_0_a</th>\n      <th>mean_d_1_a</th>\n      <th>mean_d_2_a</th>\n      <th>mean_d_3_a</th>\n      <th>mean_d_4_a</th>\n      <th>...</th>\n      <th>fft_741_b</th>\n      <th>fft_742_b</th>\n      <th>fft_743_b</th>\n      <th>fft_744_b</th>\n      <th>fft_745_b</th>\n      <th>fft_746_b</th>\n      <th>fft_747_b</th>\n      <th>fft_748_b</th>\n      <th>fft_749_b</th>\n      <th>label</th>\n    </tr>\n  </thead>\n  <tbody>\n    <tr>\n      <th>0</th>\n      <td>4.62</td>\n      <td>30.3</td>\n      <td>-356.0</td>\n      <td>15.6</td>\n      <td>26.3</td>\n      <td>1.070</td>\n      <td>0.411</td>\n      <td>-15.70</td>\n      <td>2.06</td>\n      <td>3.15</td>\n      <td>...</td>\n      <td>23.5</td>\n      <td>20.3</td>\n      <td>20.3</td>\n      <td>23.5</td>\n      <td>-215.0</td>\n      <td>280.00</td>\n      <td>-162.00</td>\n      <td>-162.00</td>\n      <td>280.00</td>\n      <td>NEGATIVE</td>\n    </tr>\n    <tr>\n      <th>1</th>\n      <td>28.80</td>\n      <td>33.1</td>\n      <td>32.0</td>\n      <td>25.8</td>\n      <td>22.8</td>\n      <td>6.550</td>\n      <td>1.680</td>\n      <td>2.88</td>\n      <td>3.83</td>\n      <td>-4.82</td>\n      <td>...</td>\n      <td>-23.3</td>\n      <td>-21.8</td>\n      <td>-21.8</td>\n      <td>-23.3</td>\n      <td>182.0</td>\n      <td>2.57</td>\n      <td>-31.60</td>\n      <td>-31.60</td>\n      <td>2.57</td>\n      <td>NEUTRAL</td>\n    </tr>\n    <tr>\n      <th>2</th>\n      <td>8.90</td>\n      <td>29.4</td>\n      <td>-416.0</td>\n      <td>16.7</td>\n      <td>23.7</td>\n      <td>79.900</td>\n      <td>3.360</td>\n      <td>90.20</td>\n      <td>89.90</td>\n      <td>2.03</td>\n      <td>...</td>\n      <td>462.0</td>\n      <td>-233.0</td>\n      <td>-233.0</td>\n      <td>462.0</td>\n      <td>-267.0</td>\n      <td>281.00</td>\n      <td>-148.00</td>\n      <td>-148.00</td>\n      <td>281.00</td>\n      <td>POSITIVE</td>\n    </tr>\n    <tr>\n      <th>3</th>\n      <td>14.90</td>\n      <td>31.6</td>\n      <td>-143.0</td>\n      <td>19.8</td>\n      <td>24.3</td>\n      <td>-0.584</td>\n      <td>-0.284</td>\n      <td>8.82</td>\n      <td>2.30</td>\n      <td>-1.97</td>\n      <td>...</td>\n      <td>299.0</td>\n      <td>-243.0</td>\n      <td>-243.0</td>\n      <td>299.0</td>\n      <td>132.0</td>\n      <td>-12.40</td>\n      <td>9.53</td>\n      <td>9.53</td>\n      <td>-12.40</td>\n      <td>POSITIVE</td>\n    </tr>\n    <tr>\n      <th>4</th>\n      <td>28.30</td>\n      <td>31.3</td>\n      <td>45.2</td>\n      <td>27.3</td>\n      <td>24.5</td>\n      <td>34.800</td>\n      <td>-5.790</td>\n      <td>3.06</td>\n      <td>41.40</td>\n      <td>5.52</td>\n      <td>...</td>\n      <td>12.0</td>\n      <td>38.1</td>\n      <td>38.1</td>\n      <td>12.0</td>\n      <td>119.0</td>\n      <td>-17.60</td>\n      <td>23.90</td>\n      <td>23.90</td>\n      <td>-17.60</td>\n      <td>NEUTRAL</td>\n    </tr>\n  </tbody>\n</table>\n<p>5 rows × 2549 columns</p>\n</div>"
     },
     "metadata": {},
     "execution_count": 91
    }
   ],
   "source": [
    "df.head() #each row represents one second"
   ]
  },
  {
   "cell_type": "code",
   "execution_count": 92,
   "metadata": {},
   "outputs": [],
   "source": [
    "df = df.sample(frac=1) #shuffle dataset\n",
    "data = df.drop(['label'], axis=1).to_numpy()\n",
    "labels = df['label'].to_numpy()"
   ]
  },
  {
   "cell_type": "code",
   "execution_count": 93,
   "metadata": {},
   "outputs": [
    {
     "output_type": "stream",
     "name": "stdout",
     "text": "['NEUTRAL', 'POSITIVE', 'NEGATIVE']\n"
    }
   ],
   "source": [
    "all_labels = list(set(labels))\n",
    "print(all_labels)\n",
    "class_labels = tfds.features.ClassLabel(names=all_labels)\n",
    "labels = np.array([class_labels.str2int(x) for x in labels])"
   ]
  },
  {
   "cell_type": "code",
   "execution_count": 94,
   "metadata": {},
   "outputs": [],
   "source": [
    "norm = np.linalg.norm(data, axis=0)\n",
    "data = data/norm"
   ]
  },
  {
   "cell_type": "code",
   "execution_count": 95,
   "metadata": {},
   "outputs": [],
   "source": [
    "assert(len(data) == len(labels))\n",
    "train, validate, test = np.split(data, [int(.6*len(data)), int(.8*len(data))])\n",
    "train_labels, validate_labels, test_labels = np.split(labels, [int(.6*len(labels)), int(.8*len(labels))])"
   ]
  },
  {
   "cell_type": "code",
   "execution_count": 96,
   "metadata": {},
   "outputs": [],
   "source": [
    "TIMESTEPS = 1\n",
    "def Reshape(input):\n",
    "    size, features = input.shape\n",
    "    return input.reshape(size, TIMESTEPS, features)\n",
    "train, validate, test = Reshape(train), Reshape(validate), Reshape(test)"
   ]
  },
  {
   "cell_type": "markdown",
   "metadata": {},
   "source": [
    "Class Weighting"
   ]
  },
  {
   "cell_type": "markdown",
   "metadata": {},
   "source": [
    "Build and Train The Model"
   ]
  },
  {
   "cell_type": "code",
   "execution_count": 106,
   "metadata": {},
   "outputs": [],
   "source": [
    "EPOCHS = 30\n",
    "BATCH_SIZE = 64\n",
    "INPUT_SHAPE = (TIMESTEPS, num_columns-1)\n",
    "DROPOUT = 0.2\n",
    "FILTERS = 16\n",
    "UNITS = 16\n",
    "POOL_SIZE = 1"
   ]
  },
  {
   "cell_type": "code",
   "execution_count": 115,
   "metadata": {},
   "outputs": [
    {
     "output_type": "stream",
     "name": "stdout",
     "text": "Model: \"functional_11\"\n_________________________________________________________________\nLayer (type)                 Output Shape              Param #   \n=================================================================\ninput_9 (InputLayer)         [(None, 1, 2548)]         0         \n_________________________________________________________________\nconv1d_19 (Conv1D)           (None, 1, 16)             40784     \n_________________________________________________________________\nmax_pooling1d_17 (MaxPooling (None, 1, 16)             0         \n_________________________________________________________________\nconv1d_20 (Conv1D)           (None, 1, 32)             544       \n_________________________________________________________________\nmax_pooling1d_18 (MaxPooling (None, 1, 32)             0         \n_________________________________________________________________\nconv1d_21 (Conv1D)           (None, 1, 48)             1584      \n_________________________________________________________________\nmax_pooling1d_19 (MaxPooling (None, 1, 48)             0         \n_________________________________________________________________\nflatten_5 (Flatten)          (None, 48)                0         \n_________________________________________________________________\ndense_15 (Dense)             (None, 16)                784       \n_________________________________________________________________\ndropout_10 (Dropout)         (None, 16)                0         \n_________________________________________________________________\ndense_16 (Dense)             (None, 16)                272       \n_________________________________________________________________\ndropout_11 (Dropout)         (None, 16)                0         \n_________________________________________________________________\ndense_17 (Dense)             (None, 3)                 51        \n=================================================================\nTotal params: 44,019\nTrainable params: 44,019\nNon-trainable params: 0\n_________________________________________________________________\n"
    }
   ],
   "source": [
    "def Model():\n",
    "    input = layers.Input(shape=INPUT_SHAPE)\n",
    "    conv1 = layers.Conv1D(FILTERS, kernel_size=1)(input)\n",
    "    pool1 = layers.MaxPool1D(POOL_SIZE)(conv1)\n",
    "    conv2 = layers.Conv1D(FILTERS*2, kernel_size=1)(pool1)\n",
    "    pool2 = layers.MaxPool1D(POOL_SIZE)(conv2)\n",
    "    conv3 = layers.Conv1D(FILTERS*3, kernel_size=1)(pool2)\n",
    "    pool3 = layers.MaxPool1D(POOL_SIZE)(conv3)\n",
    "\n",
    "    flatten = layers.Flatten()(pool3)\n",
    "    fc1 = layers.Dense(UNITS, activation = 'relu')(flatten)\n",
    "    d1 = layers.Dropout(DROPOUT)(fc1)\n",
    "    fc2 = layers.Dense(UNITS, activation = 'relu')(d1)\n",
    "    d2 = layers.Dropout(DROPOUT)(fc2)\n",
    "\n",
    "    output = layers.Dense(3, activation='softmax')(d2)\n",
    "    model = tf.keras.Model(inputs=input, outputs=output)\n",
    "    return model\n",
    "model = Model()\n",
    "model.summary()"
   ]
  },
  {
   "cell_type": "code",
   "execution_count": 116,
   "metadata": {},
   "outputs": [],
   "source": [
    "model.compile(optimizer= tf.keras.optimizers.Adam(learning_rate=0.001),\n",
    "              loss=tf.keras.losses.SparseCategoricalCrossentropy(from_logits=True),\n",
    "              metrics=['accuracy'])"
   ]
  },
  {
   "cell_type": "code",
   "execution_count": 117,
   "metadata": {},
   "outputs": [
    {
     "output_type": "stream",
     "name": "stdout",
     "text": "Epoch 1/30\n20/20 - 0s - loss: 1.0379 - accuracy: 0.5106 - val_loss: 0.9628 - val_accuracy: 0.6408\nEpoch 2/30\n20/20 - 0s - loss: 0.9567 - accuracy: 0.6685 - val_loss: 0.9225 - val_accuracy: 0.6995\nEpoch 3/30\n20/20 - 0s - loss: 0.9135 - accuracy: 0.7318 - val_loss: 0.8670 - val_accuracy: 0.7934\nEpoch 4/30\n20/20 - 0s - loss: 0.8270 - accuracy: 0.8249 - val_loss: 0.7499 - val_accuracy: 0.8826\nEpoch 5/30\n20/20 - 0s - loss: 0.7310 - accuracy: 0.8538 - val_loss: 0.6649 - val_accuracy: 0.9108\nEpoch 6/30\n20/20 - 0s - loss: 0.6901 - accuracy: 0.8780 - val_loss: 0.6505 - val_accuracy: 0.9108\nEpoch 7/30\n20/20 - 0s - loss: 0.6699 - accuracy: 0.8913 - val_loss: 0.6472 - val_accuracy: 0.9108\nEpoch 8/30\n20/20 - 0s - loss: 0.6577 - accuracy: 0.9046 - val_loss: 0.6416 - val_accuracy: 0.9108\nEpoch 9/30\n20/20 - 0s - loss: 0.6547 - accuracy: 0.9046 - val_loss: 0.6364 - val_accuracy: 0.9155\nEpoch 10/30\n20/20 - 0s - loss: 0.6478 - accuracy: 0.9085 - val_loss: 0.6380 - val_accuracy: 0.9131\nEpoch 11/30\n20/20 - 0s - loss: 0.6386 - accuracy: 0.9163 - val_loss: 0.6319 - val_accuracy: 0.9178\nEpoch 12/30\n20/20 - 0s - loss: 0.6329 - accuracy: 0.9257 - val_loss: 0.6372 - val_accuracy: 0.9108\nEpoch 13/30\n20/20 - 0s - loss: 0.6322 - accuracy: 0.9210 - val_loss: 0.6340 - val_accuracy: 0.9178\nEpoch 14/30\n20/20 - 0s - loss: 0.6235 - accuracy: 0.9289 - val_loss: 0.6343 - val_accuracy: 0.9178\nEpoch 15/30\n20/20 - 0s - loss: 0.6291 - accuracy: 0.9242 - val_loss: 0.6301 - val_accuracy: 0.9202\nEpoch 16/30\n20/20 - 0s - loss: 0.6216 - accuracy: 0.9335 - val_loss: 0.6310 - val_accuracy: 0.9225\nEpoch 17/30\n20/20 - 0s - loss: 0.6220 - accuracy: 0.9296 - val_loss: 0.6342 - val_accuracy: 0.9178\nEpoch 18/30\n20/20 - 0s - loss: 0.6184 - accuracy: 0.9343 - val_loss: 0.6318 - val_accuracy: 0.9202\nEpoch 19/30\n20/20 - 0s - loss: 0.6171 - accuracy: 0.9351 - val_loss: 0.6313 - val_accuracy: 0.9202\nEpoch 20/30\n20/20 - 0s - loss: 0.6157 - accuracy: 0.9367 - val_loss: 0.6300 - val_accuracy: 0.9225\nEpoch 21/30\n20/20 - 0s - loss: 0.6152 - accuracy: 0.9382 - val_loss: 0.6365 - val_accuracy: 0.9155\nEpoch 22/30\n20/20 - 0s - loss: 0.6152 - accuracy: 0.9390 - val_loss: 0.6342 - val_accuracy: 0.9155\nEpoch 23/30\n20/20 - 0s - loss: 0.6128 - accuracy: 0.9382 - val_loss: 0.6292 - val_accuracy: 0.9249\nEpoch 24/30\n20/20 - 0s - loss: 0.6104 - accuracy: 0.9429 - val_loss: 0.6347 - val_accuracy: 0.9178\nEpoch 25/30\n20/20 - 0s - loss: 0.6131 - accuracy: 0.9375 - val_loss: 0.6311 - val_accuracy: 0.9202\nEpoch 26/30\n20/20 - 0s - loss: 0.6103 - accuracy: 0.9421 - val_loss: 0.6312 - val_accuracy: 0.9202\nEpoch 27/30\n20/20 - 0s - loss: 0.6109 - accuracy: 0.9398 - val_loss: 0.6327 - val_accuracy: 0.9225\nEpoch 28/30\n20/20 - 0s - loss: 0.6100 - accuracy: 0.9421 - val_loss: 0.6316 - val_accuracy: 0.9202\nEpoch 29/30\n20/20 - 0s - loss: 0.6087 - accuracy: 0.9429 - val_loss: 0.6341 - val_accuracy: 0.9178\n"
    }
   ],
   "source": [
    "callback = tf.keras.callbacks.EarlyStopping(monitor='accuracy', patience=5)\n",
    "\n",
    "history = model.fit(train, train_labels, \n",
    "epochs=EPOCHS, \n",
    "validation_data=(validate, validate_labels), \n",
    "batch_size=BATCH_SIZE, \n",
    "verbose=2, \n",
    "callbacks=[callback],\n",
    "# class_weight=class_weight,\n",
    "shuffle=True)"
   ]
  },
  {
   "cell_type": "code",
   "execution_count": 118,
   "metadata": {},
   "outputs": [],
   "source": [
    "# model.save(\"./Models/Epilepsy_LSTM1.h5\")"
   ]
  },
  {
   "cell_type": "code",
   "execution_count": 119,
   "metadata": {},
   "outputs": [
    {
     "output_type": "execute_result",
     "data": {
      "text/plain": "<matplotlib.legend.Legend at 0x2ca1d9617f0>"
     },
     "metadata": {},
     "execution_count": 119
    },
    {
     "output_type": "display_data",
     "data": {
      "text/plain": "<Figure size 432x288 with 1 Axes>",
      "image/svg+xml": "<?xml version=\"1.0\" encoding=\"utf-8\" standalone=\"no\"?>\r\n<!DOCTYPE svg PUBLIC \"-//W3C//DTD SVG 1.1//EN\"\r\n  \"http://www.w3.org/Graphics/SVG/1.1/DTD/svg11.dtd\">\r\n<!-- Created with matplotlib (https://matplotlib.org/) -->\r\n<svg height=\"265.995469pt\" version=\"1.1\" viewBox=\"0 0 385.78125 265.995469\" width=\"385.78125pt\" xmlns=\"http://www.w3.org/2000/svg\" xmlns:xlink=\"http://www.w3.org/1999/xlink\">\r\n <defs>\r\n  <style type=\"text/css\">\r\n*{stroke-linecap:butt;stroke-linejoin:round;}\r\n  </style>\r\n </defs>\r\n <g id=\"figure_1\">\r\n  <g id=\"patch_1\">\r\n   <path d=\"M 0 265.995469 \r\nL 385.78125 265.995469 \r\nL 385.78125 0 \r\nL 0 0 \r\nz\r\n\" style=\"fill:none;\"/>\r\n  </g>\r\n  <g id=\"axes_1\">\r\n   <g id=\"patch_2\">\r\n    <path d=\"M 43.78125 228.439219 \r\nL 378.58125 228.439219 \r\nL 378.58125 10.999219 \r\nL 43.78125 10.999219 \r\nz\r\n\" style=\"fill:#ffffff;\"/>\r\n   </g>\r\n   <g id=\"matplotlib.axis_1\">\r\n    <g id=\"xtick_1\">\r\n     <g id=\"line2d_1\">\r\n      <defs>\r\n       <path d=\"M 0 0 \r\nL 0 3.5 \r\n\" id=\"mef409ab26d\" style=\"stroke:#000000;stroke-width:0.8;\"/>\r\n      </defs>\r\n      <g>\r\n       <use style=\"stroke:#000000;stroke-width:0.8;\" x=\"58.999432\" xlink:href=\"#mef409ab26d\" y=\"228.439219\"/>\r\n      </g>\r\n     </g>\r\n     <g id=\"text_1\">\r\n      <!-- 0 -->\r\n      <defs>\r\n       <path d=\"M 31.78125 66.40625 \r\nQ 24.171875 66.40625 20.328125 58.90625 \r\nQ 16.5 51.421875 16.5 36.375 \r\nQ 16.5 21.390625 20.328125 13.890625 \r\nQ 24.171875 6.390625 31.78125 6.390625 \r\nQ 39.453125 6.390625 43.28125 13.890625 \r\nQ 47.125 21.390625 47.125 36.375 \r\nQ 47.125 51.421875 43.28125 58.90625 \r\nQ 39.453125 66.40625 31.78125 66.40625 \r\nz\r\nM 31.78125 74.21875 \r\nQ 44.046875 74.21875 50.515625 64.515625 \r\nQ 56.984375 54.828125 56.984375 36.375 \r\nQ 56.984375 17.96875 50.515625 8.265625 \r\nQ 44.046875 -1.421875 31.78125 -1.421875 \r\nQ 19.53125 -1.421875 13.0625 8.265625 \r\nQ 6.59375 17.96875 6.59375 36.375 \r\nQ 6.59375 54.828125 13.0625 64.515625 \r\nQ 19.53125 74.21875 31.78125 74.21875 \r\nz\r\n\" id=\"DejaVuSans-48\"/>\r\n      </defs>\r\n      <g transform=\"translate(55.818182 243.037656)scale(0.1 -0.1)\">\r\n       <use xlink:href=\"#DejaVuSans-48\"/>\r\n      </g>\r\n     </g>\r\n    </g>\r\n    <g id=\"xtick_2\">\r\n     <g id=\"line2d_2\">\r\n      <g>\r\n       <use style=\"stroke:#000000;stroke-width:0.8;\" x=\"113.350081\" xlink:href=\"#mef409ab26d\" y=\"228.439219\"/>\r\n      </g>\r\n     </g>\r\n     <g id=\"text_2\">\r\n      <!-- 5 -->\r\n      <defs>\r\n       <path d=\"M 10.796875 72.90625 \r\nL 49.515625 72.90625 \r\nL 49.515625 64.59375 \r\nL 19.828125 64.59375 \r\nL 19.828125 46.734375 \r\nQ 21.96875 47.46875 24.109375 47.828125 \r\nQ 26.265625 48.1875 28.421875 48.1875 \r\nQ 40.625 48.1875 47.75 41.5 \r\nQ 54.890625 34.8125 54.890625 23.390625 \r\nQ 54.890625 11.625 47.5625 5.09375 \r\nQ 40.234375 -1.421875 26.90625 -1.421875 \r\nQ 22.3125 -1.421875 17.546875 -0.640625 \r\nQ 12.796875 0.140625 7.71875 1.703125 \r\nL 7.71875 11.625 \r\nQ 12.109375 9.234375 16.796875 8.0625 \r\nQ 21.484375 6.890625 26.703125 6.890625 \r\nQ 35.15625 6.890625 40.078125 11.328125 \r\nQ 45.015625 15.765625 45.015625 23.390625 \r\nQ 45.015625 31 40.078125 35.4375 \r\nQ 35.15625 39.890625 26.703125 39.890625 \r\nQ 22.75 39.890625 18.8125 39.015625 \r\nQ 14.890625 38.140625 10.796875 36.28125 \r\nz\r\n\" id=\"DejaVuSans-53\"/>\r\n      </defs>\r\n      <g transform=\"translate(110.168831 243.037656)scale(0.1 -0.1)\">\r\n       <use xlink:href=\"#DejaVuSans-53\"/>\r\n      </g>\r\n     </g>\r\n    </g>\r\n    <g id=\"xtick_3\">\r\n     <g id=\"line2d_3\">\r\n      <g>\r\n       <use style=\"stroke:#000000;stroke-width:0.8;\" x=\"167.700731\" xlink:href=\"#mef409ab26d\" y=\"228.439219\"/>\r\n      </g>\r\n     </g>\r\n     <g id=\"text_3\">\r\n      <!-- 10 -->\r\n      <defs>\r\n       <path d=\"M 12.40625 8.296875 \r\nL 28.515625 8.296875 \r\nL 28.515625 63.921875 \r\nL 10.984375 60.40625 \r\nL 10.984375 69.390625 \r\nL 28.421875 72.90625 \r\nL 38.28125 72.90625 \r\nL 38.28125 8.296875 \r\nL 54.390625 8.296875 \r\nL 54.390625 0 \r\nL 12.40625 0 \r\nz\r\n\" id=\"DejaVuSans-49\"/>\r\n      </defs>\r\n      <g transform=\"translate(161.338231 243.037656)scale(0.1 -0.1)\">\r\n       <use xlink:href=\"#DejaVuSans-49\"/>\r\n       <use x=\"63.623047\" xlink:href=\"#DejaVuSans-48\"/>\r\n      </g>\r\n     </g>\r\n    </g>\r\n    <g id=\"xtick_4\">\r\n     <g id=\"line2d_4\">\r\n      <g>\r\n       <use style=\"stroke:#000000;stroke-width:0.8;\" x=\"222.05138\" xlink:href=\"#mef409ab26d\" y=\"228.439219\"/>\r\n      </g>\r\n     </g>\r\n     <g id=\"text_4\">\r\n      <!-- 15 -->\r\n      <g transform=\"translate(215.68888 243.037656)scale(0.1 -0.1)\">\r\n       <use xlink:href=\"#DejaVuSans-49\"/>\r\n       <use x=\"63.623047\" xlink:href=\"#DejaVuSans-53\"/>\r\n      </g>\r\n     </g>\r\n    </g>\r\n    <g id=\"xtick_5\">\r\n     <g id=\"line2d_5\">\r\n      <g>\r\n       <use style=\"stroke:#000000;stroke-width:0.8;\" x=\"276.402029\" xlink:href=\"#mef409ab26d\" y=\"228.439219\"/>\r\n      </g>\r\n     </g>\r\n     <g id=\"text_5\">\r\n      <!-- 20 -->\r\n      <defs>\r\n       <path d=\"M 19.1875 8.296875 \r\nL 53.609375 8.296875 \r\nL 53.609375 0 \r\nL 7.328125 0 \r\nL 7.328125 8.296875 \r\nQ 12.9375 14.109375 22.625 23.890625 \r\nQ 32.328125 33.6875 34.8125 36.53125 \r\nQ 39.546875 41.84375 41.421875 45.53125 \r\nQ 43.3125 49.21875 43.3125 52.78125 \r\nQ 43.3125 58.59375 39.234375 62.25 \r\nQ 35.15625 65.921875 28.609375 65.921875 \r\nQ 23.96875 65.921875 18.8125 64.3125 \r\nQ 13.671875 62.703125 7.8125 59.421875 \r\nL 7.8125 69.390625 \r\nQ 13.765625 71.78125 18.9375 73 \r\nQ 24.125 74.21875 28.421875 74.21875 \r\nQ 39.75 74.21875 46.484375 68.546875 \r\nQ 53.21875 62.890625 53.21875 53.421875 \r\nQ 53.21875 48.921875 51.53125 44.890625 \r\nQ 49.859375 40.875 45.40625 35.40625 \r\nQ 44.1875 33.984375 37.640625 27.21875 \r\nQ 31.109375 20.453125 19.1875 8.296875 \r\nz\r\n\" id=\"DejaVuSans-50\"/>\r\n      </defs>\r\n      <g transform=\"translate(270.039529 243.037656)scale(0.1 -0.1)\">\r\n       <use xlink:href=\"#DejaVuSans-50\"/>\r\n       <use x=\"63.623047\" xlink:href=\"#DejaVuSans-48\"/>\r\n      </g>\r\n     </g>\r\n    </g>\r\n    <g id=\"xtick_6\">\r\n     <g id=\"line2d_6\">\r\n      <g>\r\n       <use style=\"stroke:#000000;stroke-width:0.8;\" x=\"330.752679\" xlink:href=\"#mef409ab26d\" y=\"228.439219\"/>\r\n      </g>\r\n     </g>\r\n     <g id=\"text_6\">\r\n      <!-- 25 -->\r\n      <g transform=\"translate(324.390179 243.037656)scale(0.1 -0.1)\">\r\n       <use xlink:href=\"#DejaVuSans-50\"/>\r\n       <use x=\"63.623047\" xlink:href=\"#DejaVuSans-53\"/>\r\n      </g>\r\n     </g>\r\n    </g>\r\n    <g id=\"text_7\">\r\n     <!-- Epoch -->\r\n     <defs>\r\n      <path d=\"M 9.8125 72.90625 \r\nL 55.90625 72.90625 \r\nL 55.90625 64.59375 \r\nL 19.671875 64.59375 \r\nL 19.671875 43.015625 \r\nL 54.390625 43.015625 \r\nL 54.390625 34.71875 \r\nL 19.671875 34.71875 \r\nL 19.671875 8.296875 \r\nL 56.78125 8.296875 \r\nL 56.78125 0 \r\nL 9.8125 0 \r\nz\r\n\" id=\"DejaVuSans-69\"/>\r\n      <path d=\"M 18.109375 8.203125 \r\nL 18.109375 -20.796875 \r\nL 9.078125 -20.796875 \r\nL 9.078125 54.6875 \r\nL 18.109375 54.6875 \r\nL 18.109375 46.390625 \r\nQ 20.953125 51.265625 25.265625 53.625 \r\nQ 29.59375 56 35.59375 56 \r\nQ 45.5625 56 51.78125 48.09375 \r\nQ 58.015625 40.1875 58.015625 27.296875 \r\nQ 58.015625 14.40625 51.78125 6.484375 \r\nQ 45.5625 -1.421875 35.59375 -1.421875 \r\nQ 29.59375 -1.421875 25.265625 0.953125 \r\nQ 20.953125 3.328125 18.109375 8.203125 \r\nz\r\nM 48.6875 27.296875 \r\nQ 48.6875 37.203125 44.609375 42.84375 \r\nQ 40.53125 48.484375 33.40625 48.484375 \r\nQ 26.265625 48.484375 22.1875 42.84375 \r\nQ 18.109375 37.203125 18.109375 27.296875 \r\nQ 18.109375 17.390625 22.1875 11.75 \r\nQ 26.265625 6.109375 33.40625 6.109375 \r\nQ 40.53125 6.109375 44.609375 11.75 \r\nQ 48.6875 17.390625 48.6875 27.296875 \r\nz\r\n\" id=\"DejaVuSans-112\"/>\r\n      <path d=\"M 30.609375 48.390625 \r\nQ 23.390625 48.390625 19.1875 42.75 \r\nQ 14.984375 37.109375 14.984375 27.296875 \r\nQ 14.984375 17.484375 19.15625 11.84375 \r\nQ 23.34375 6.203125 30.609375 6.203125 \r\nQ 37.796875 6.203125 41.984375 11.859375 \r\nQ 46.1875 17.53125 46.1875 27.296875 \r\nQ 46.1875 37.015625 41.984375 42.703125 \r\nQ 37.796875 48.390625 30.609375 48.390625 \r\nz\r\nM 30.609375 56 \r\nQ 42.328125 56 49.015625 48.375 \r\nQ 55.71875 40.765625 55.71875 27.296875 \r\nQ 55.71875 13.875 49.015625 6.21875 \r\nQ 42.328125 -1.421875 30.609375 -1.421875 \r\nQ 18.84375 -1.421875 12.171875 6.21875 \r\nQ 5.515625 13.875 5.515625 27.296875 \r\nQ 5.515625 40.765625 12.171875 48.375 \r\nQ 18.84375 56 30.609375 56 \r\nz\r\n\" id=\"DejaVuSans-111\"/>\r\n      <path d=\"M 48.78125 52.59375 \r\nL 48.78125 44.1875 \r\nQ 44.96875 46.296875 41.140625 47.34375 \r\nQ 37.3125 48.390625 33.40625 48.390625 \r\nQ 24.65625 48.390625 19.8125 42.84375 \r\nQ 14.984375 37.3125 14.984375 27.296875 \r\nQ 14.984375 17.28125 19.8125 11.734375 \r\nQ 24.65625 6.203125 33.40625 6.203125 \r\nQ 37.3125 6.203125 41.140625 7.25 \r\nQ 44.96875 8.296875 48.78125 10.40625 \r\nL 48.78125 2.09375 \r\nQ 45.015625 0.34375 40.984375 -0.53125 \r\nQ 36.96875 -1.421875 32.421875 -1.421875 \r\nQ 20.0625 -1.421875 12.78125 6.34375 \r\nQ 5.515625 14.109375 5.515625 27.296875 \r\nQ 5.515625 40.671875 12.859375 48.328125 \r\nQ 20.21875 56 33.015625 56 \r\nQ 37.15625 56 41.109375 55.140625 \r\nQ 45.0625 54.296875 48.78125 52.59375 \r\nz\r\n\" id=\"DejaVuSans-99\"/>\r\n      <path d=\"M 54.890625 33.015625 \r\nL 54.890625 0 \r\nL 45.90625 0 \r\nL 45.90625 32.71875 \r\nQ 45.90625 40.484375 42.875 44.328125 \r\nQ 39.84375 48.1875 33.796875 48.1875 \r\nQ 26.515625 48.1875 22.3125 43.546875 \r\nQ 18.109375 38.921875 18.109375 30.90625 \r\nL 18.109375 0 \r\nL 9.078125 0 \r\nL 9.078125 75.984375 \r\nL 18.109375 75.984375 \r\nL 18.109375 46.1875 \r\nQ 21.34375 51.125 25.703125 53.5625 \r\nQ 30.078125 56 35.796875 56 \r\nQ 45.21875 56 50.046875 50.171875 \r\nQ 54.890625 44.34375 54.890625 33.015625 \r\nz\r\n\" id=\"DejaVuSans-104\"/>\r\n     </defs>\r\n     <g transform=\"translate(195.870313 256.715781)scale(0.1 -0.1)\">\r\n      <use xlink:href=\"#DejaVuSans-69\"/>\r\n      <use x=\"63.183594\" xlink:href=\"#DejaVuSans-112\"/>\r\n      <use x=\"126.660156\" xlink:href=\"#DejaVuSans-111\"/>\r\n      <use x=\"187.841797\" xlink:href=\"#DejaVuSans-99\"/>\r\n      <use x=\"242.822266\" xlink:href=\"#DejaVuSans-104\"/>\r\n     </g>\r\n    </g>\r\n   </g>\r\n   <g id=\"matplotlib.axis_2\">\r\n    <g id=\"ytick_1\">\r\n     <g id=\"line2d_7\">\r\n      <defs>\r\n       <path d=\"M 0 0 \r\nL -3.5 0 \r\n\" id=\"me937d25b5d\" style=\"stroke:#000000;stroke-width:0.8;\"/>\r\n      </defs>\r\n      <g>\r\n       <use style=\"stroke:#000000;stroke-width:0.8;\" x=\"43.78125\" xlink:href=\"#me937d25b5d\" y=\"228.439219\"/>\r\n      </g>\r\n     </g>\r\n     <g id=\"text_8\">\r\n      <!-- 0.0 -->\r\n      <defs>\r\n       <path d=\"M 10.6875 12.40625 \r\nL 21 12.40625 \r\nL 21 0 \r\nL 10.6875 0 \r\nz\r\n\" id=\"DejaVuSans-46\"/>\r\n      </defs>\r\n      <g transform=\"translate(20.878125 232.238437)scale(0.1 -0.1)\">\r\n       <use xlink:href=\"#DejaVuSans-48\"/>\r\n       <use x=\"63.623047\" xlink:href=\"#DejaVuSans-46\"/>\r\n       <use x=\"95.410156\" xlink:href=\"#DejaVuSans-48\"/>\r\n      </g>\r\n     </g>\r\n    </g>\r\n    <g id=\"ytick_2\">\r\n     <g id=\"line2d_8\">\r\n      <g>\r\n       <use style=\"stroke:#000000;stroke-width:0.8;\" x=\"43.78125\" xlink:href=\"#me937d25b5d\" y=\"184.951219\"/>\r\n      </g>\r\n     </g>\r\n     <g id=\"text_9\">\r\n      <!-- 0.2 -->\r\n      <g transform=\"translate(20.878125 188.750437)scale(0.1 -0.1)\">\r\n       <use xlink:href=\"#DejaVuSans-48\"/>\r\n       <use x=\"63.623047\" xlink:href=\"#DejaVuSans-46\"/>\r\n       <use x=\"95.410156\" xlink:href=\"#DejaVuSans-50\"/>\r\n      </g>\r\n     </g>\r\n    </g>\r\n    <g id=\"ytick_3\">\r\n     <g id=\"line2d_9\">\r\n      <g>\r\n       <use style=\"stroke:#000000;stroke-width:0.8;\" x=\"43.78125\" xlink:href=\"#me937d25b5d\" y=\"141.463219\"/>\r\n      </g>\r\n     </g>\r\n     <g id=\"text_10\">\r\n      <!-- 0.4 -->\r\n      <defs>\r\n       <path d=\"M 37.796875 64.3125 \r\nL 12.890625 25.390625 \r\nL 37.796875 25.390625 \r\nz\r\nM 35.203125 72.90625 \r\nL 47.609375 72.90625 \r\nL 47.609375 25.390625 \r\nL 58.015625 25.390625 \r\nL 58.015625 17.1875 \r\nL 47.609375 17.1875 \r\nL 47.609375 0 \r\nL 37.796875 0 \r\nL 37.796875 17.1875 \r\nL 4.890625 17.1875 \r\nL 4.890625 26.703125 \r\nz\r\n\" id=\"DejaVuSans-52\"/>\r\n      </defs>\r\n      <g transform=\"translate(20.878125 145.262437)scale(0.1 -0.1)\">\r\n       <use xlink:href=\"#DejaVuSans-48\"/>\r\n       <use x=\"63.623047\" xlink:href=\"#DejaVuSans-46\"/>\r\n       <use x=\"95.410156\" xlink:href=\"#DejaVuSans-52\"/>\r\n      </g>\r\n     </g>\r\n    </g>\r\n    <g id=\"ytick_4\">\r\n     <g id=\"line2d_10\">\r\n      <g>\r\n       <use style=\"stroke:#000000;stroke-width:0.8;\" x=\"43.78125\" xlink:href=\"#me937d25b5d\" y=\"97.975219\"/>\r\n      </g>\r\n     </g>\r\n     <g id=\"text_11\">\r\n      <!-- 0.6 -->\r\n      <defs>\r\n       <path d=\"M 33.015625 40.375 \r\nQ 26.375 40.375 22.484375 35.828125 \r\nQ 18.609375 31.296875 18.609375 23.390625 \r\nQ 18.609375 15.53125 22.484375 10.953125 \r\nQ 26.375 6.390625 33.015625 6.390625 \r\nQ 39.65625 6.390625 43.53125 10.953125 \r\nQ 47.40625 15.53125 47.40625 23.390625 \r\nQ 47.40625 31.296875 43.53125 35.828125 \r\nQ 39.65625 40.375 33.015625 40.375 \r\nz\r\nM 52.59375 71.296875 \r\nL 52.59375 62.3125 \r\nQ 48.875 64.0625 45.09375 64.984375 \r\nQ 41.3125 65.921875 37.59375 65.921875 \r\nQ 27.828125 65.921875 22.671875 59.328125 \r\nQ 17.53125 52.734375 16.796875 39.40625 \r\nQ 19.671875 43.65625 24.015625 45.921875 \r\nQ 28.375 48.1875 33.59375 48.1875 \r\nQ 44.578125 48.1875 50.953125 41.515625 \r\nQ 57.328125 34.859375 57.328125 23.390625 \r\nQ 57.328125 12.15625 50.6875 5.359375 \r\nQ 44.046875 -1.421875 33.015625 -1.421875 \r\nQ 20.359375 -1.421875 13.671875 8.265625 \r\nQ 6.984375 17.96875 6.984375 36.375 \r\nQ 6.984375 53.65625 15.1875 63.9375 \r\nQ 23.390625 74.21875 37.203125 74.21875 \r\nQ 40.921875 74.21875 44.703125 73.484375 \r\nQ 48.484375 72.75 52.59375 71.296875 \r\nz\r\n\" id=\"DejaVuSans-54\"/>\r\n      </defs>\r\n      <g transform=\"translate(20.878125 101.774437)scale(0.1 -0.1)\">\r\n       <use xlink:href=\"#DejaVuSans-48\"/>\r\n       <use x=\"63.623047\" xlink:href=\"#DejaVuSans-46\"/>\r\n       <use x=\"95.410156\" xlink:href=\"#DejaVuSans-54\"/>\r\n      </g>\r\n     </g>\r\n    </g>\r\n    <g id=\"ytick_5\">\r\n     <g id=\"line2d_11\">\r\n      <g>\r\n       <use style=\"stroke:#000000;stroke-width:0.8;\" x=\"43.78125\" xlink:href=\"#me937d25b5d\" y=\"54.487219\"/>\r\n      </g>\r\n     </g>\r\n     <g id=\"text_12\">\r\n      <!-- 0.8 -->\r\n      <defs>\r\n       <path d=\"M 31.78125 34.625 \r\nQ 24.75 34.625 20.71875 30.859375 \r\nQ 16.703125 27.09375 16.703125 20.515625 \r\nQ 16.703125 13.921875 20.71875 10.15625 \r\nQ 24.75 6.390625 31.78125 6.390625 \r\nQ 38.8125 6.390625 42.859375 10.171875 \r\nQ 46.921875 13.96875 46.921875 20.515625 \r\nQ 46.921875 27.09375 42.890625 30.859375 \r\nQ 38.875 34.625 31.78125 34.625 \r\nz\r\nM 21.921875 38.8125 \r\nQ 15.578125 40.375 12.03125 44.71875 \r\nQ 8.5 49.078125 8.5 55.328125 \r\nQ 8.5 64.0625 14.71875 69.140625 \r\nQ 20.953125 74.21875 31.78125 74.21875 \r\nQ 42.671875 74.21875 48.875 69.140625 \r\nQ 55.078125 64.0625 55.078125 55.328125 \r\nQ 55.078125 49.078125 51.53125 44.71875 \r\nQ 48 40.375 41.703125 38.8125 \r\nQ 48.828125 37.15625 52.796875 32.3125 \r\nQ 56.78125 27.484375 56.78125 20.515625 \r\nQ 56.78125 9.90625 50.3125 4.234375 \r\nQ 43.84375 -1.421875 31.78125 -1.421875 \r\nQ 19.734375 -1.421875 13.25 4.234375 \r\nQ 6.78125 9.90625 6.78125 20.515625 \r\nQ 6.78125 27.484375 10.78125 32.3125 \r\nQ 14.796875 37.15625 21.921875 38.8125 \r\nz\r\nM 18.3125 54.390625 \r\nQ 18.3125 48.734375 21.84375 45.5625 \r\nQ 25.390625 42.390625 31.78125 42.390625 \r\nQ 38.140625 42.390625 41.71875 45.5625 \r\nQ 45.3125 48.734375 45.3125 54.390625 \r\nQ 45.3125 60.0625 41.71875 63.234375 \r\nQ 38.140625 66.40625 31.78125 66.40625 \r\nQ 25.390625 66.40625 21.84375 63.234375 \r\nQ 18.3125 60.0625 18.3125 54.390625 \r\nz\r\n\" id=\"DejaVuSans-56\"/>\r\n      </defs>\r\n      <g transform=\"translate(20.878125 58.286437)scale(0.1 -0.1)\">\r\n       <use xlink:href=\"#DejaVuSans-48\"/>\r\n       <use x=\"63.623047\" xlink:href=\"#DejaVuSans-46\"/>\r\n       <use x=\"95.410156\" xlink:href=\"#DejaVuSans-56\"/>\r\n      </g>\r\n     </g>\r\n    </g>\r\n    <g id=\"ytick_6\">\r\n     <g id=\"line2d_12\">\r\n      <g>\r\n       <use style=\"stroke:#000000;stroke-width:0.8;\" x=\"43.78125\" xlink:href=\"#me937d25b5d\" y=\"10.999219\"/>\r\n      </g>\r\n     </g>\r\n     <g id=\"text_13\">\r\n      <!-- 1.0 -->\r\n      <g transform=\"translate(20.878125 14.798437)scale(0.1 -0.1)\">\r\n       <use xlink:href=\"#DejaVuSans-49\"/>\r\n       <use x=\"63.623047\" xlink:href=\"#DejaVuSans-46\"/>\r\n       <use x=\"95.410156\" xlink:href=\"#DejaVuSans-48\"/>\r\n      </g>\r\n     </g>\r\n    </g>\r\n    <g id=\"text_14\">\r\n     <!-- Accuracy -->\r\n     <defs>\r\n      <path d=\"M 34.1875 63.1875 \r\nL 20.796875 26.90625 \r\nL 47.609375 26.90625 \r\nz\r\nM 28.609375 72.90625 \r\nL 39.796875 72.90625 \r\nL 67.578125 0 \r\nL 57.328125 0 \r\nL 50.6875 18.703125 \r\nL 17.828125 18.703125 \r\nL 11.1875 0 \r\nL 0.78125 0 \r\nz\r\n\" id=\"DejaVuSans-65\"/>\r\n      <path d=\"M 8.5 21.578125 \r\nL 8.5 54.6875 \r\nL 17.484375 54.6875 \r\nL 17.484375 21.921875 \r\nQ 17.484375 14.15625 20.5 10.265625 \r\nQ 23.53125 6.390625 29.59375 6.390625 \r\nQ 36.859375 6.390625 41.078125 11.03125 \r\nQ 45.3125 15.671875 45.3125 23.6875 \r\nL 45.3125 54.6875 \r\nL 54.296875 54.6875 \r\nL 54.296875 0 \r\nL 45.3125 0 \r\nL 45.3125 8.40625 \r\nQ 42.046875 3.421875 37.71875 1 \r\nQ 33.40625 -1.421875 27.6875 -1.421875 \r\nQ 18.265625 -1.421875 13.375 4.4375 \r\nQ 8.5 10.296875 8.5 21.578125 \r\nz\r\nM 31.109375 56 \r\nz\r\n\" id=\"DejaVuSans-117\"/>\r\n      <path d=\"M 41.109375 46.296875 \r\nQ 39.59375 47.171875 37.8125 47.578125 \r\nQ 36.03125 48 33.890625 48 \r\nQ 26.265625 48 22.1875 43.046875 \r\nQ 18.109375 38.09375 18.109375 28.8125 \r\nL 18.109375 0 \r\nL 9.078125 0 \r\nL 9.078125 54.6875 \r\nL 18.109375 54.6875 \r\nL 18.109375 46.1875 \r\nQ 20.953125 51.171875 25.484375 53.578125 \r\nQ 30.03125 56 36.53125 56 \r\nQ 37.453125 56 38.578125 55.875 \r\nQ 39.703125 55.765625 41.0625 55.515625 \r\nz\r\n\" id=\"DejaVuSans-114\"/>\r\n      <path d=\"M 34.28125 27.484375 \r\nQ 23.390625 27.484375 19.1875 25 \r\nQ 14.984375 22.515625 14.984375 16.5 \r\nQ 14.984375 11.71875 18.140625 8.90625 \r\nQ 21.296875 6.109375 26.703125 6.109375 \r\nQ 34.1875 6.109375 38.703125 11.40625 \r\nQ 43.21875 16.703125 43.21875 25.484375 \r\nL 43.21875 27.484375 \r\nz\r\nM 52.203125 31.203125 \r\nL 52.203125 0 \r\nL 43.21875 0 \r\nL 43.21875 8.296875 \r\nQ 40.140625 3.328125 35.546875 0.953125 \r\nQ 30.953125 -1.421875 24.3125 -1.421875 \r\nQ 15.921875 -1.421875 10.953125 3.296875 \r\nQ 6 8.015625 6 15.921875 \r\nQ 6 25.140625 12.171875 29.828125 \r\nQ 18.359375 34.515625 30.609375 34.515625 \r\nL 43.21875 34.515625 \r\nL 43.21875 35.40625 \r\nQ 43.21875 41.609375 39.140625 45 \r\nQ 35.0625 48.390625 27.6875 48.390625 \r\nQ 23 48.390625 18.546875 47.265625 \r\nQ 14.109375 46.140625 10.015625 43.890625 \r\nL 10.015625 52.203125 \r\nQ 14.9375 54.109375 19.578125 55.046875 \r\nQ 24.21875 56 28.609375 56 \r\nQ 40.484375 56 46.34375 49.84375 \r\nQ 52.203125 43.703125 52.203125 31.203125 \r\nz\r\n\" id=\"DejaVuSans-97\"/>\r\n      <path d=\"M 32.171875 -5.078125 \r\nQ 28.375 -14.84375 24.75 -17.8125 \r\nQ 21.140625 -20.796875 15.09375 -20.796875 \r\nL 7.90625 -20.796875 \r\nL 7.90625 -13.28125 \r\nL 13.1875 -13.28125 \r\nQ 16.890625 -13.28125 18.9375 -11.515625 \r\nQ 21 -9.765625 23.484375 -3.21875 \r\nL 25.09375 0.875 \r\nL 2.984375 54.6875 \r\nL 12.5 54.6875 \r\nL 29.59375 11.921875 \r\nL 46.6875 54.6875 \r\nL 56.203125 54.6875 \r\nz\r\n\" id=\"DejaVuSans-121\"/>\r\n     </defs>\r\n     <g transform=\"translate(14.798438 142.547344)rotate(-90)scale(0.1 -0.1)\">\r\n      <use xlink:href=\"#DejaVuSans-65\"/>\r\n      <use x=\"66.658203\" xlink:href=\"#DejaVuSans-99\"/>\r\n      <use x=\"121.638672\" xlink:href=\"#DejaVuSans-99\"/>\r\n      <use x=\"176.619141\" xlink:href=\"#DejaVuSans-117\"/>\r\n      <use x=\"239.998047\" xlink:href=\"#DejaVuSans-114\"/>\r\n      <use x=\"281.111328\" xlink:href=\"#DejaVuSans-97\"/>\r\n      <use x=\"342.390625\" xlink:href=\"#DejaVuSans-99\"/>\r\n      <use x=\"397.371094\" xlink:href=\"#DejaVuSans-121\"/>\r\n     </g>\r\n    </g>\r\n   </g>\r\n   <g id=\"line2d_13\">\r\n    <path clip-path=\"url(#pcf49d884d1)\" d=\"M 58.999432 117.424107 \r\nL 69.869562 83.082534 \r\nL 80.739692 69.311905 \r\nL 91.609821 49.080966 \r\nL 102.479951 42.790684 \r\nL 113.350081 37.52044 \r\nL 124.220211 34.630302 \r\nL 135.090341 31.740177 \r\nL 145.960471 31.740177 \r\nL 156.830601 30.890128 \r\nL 167.700731 29.190056 \r\nL 178.57086 27.149967 \r\nL 189.44099 28.170005 \r\nL 200.31112 26.469933 \r\nL 211.18125 27.489971 \r\nL 222.05138 25.449882 \r\nL 232.92151 26.299918 \r\nL 243.79164 25.27988 \r\nL 254.661769 25.109865 \r\nL 265.531899 24.769848 \r\nL 276.402029 24.429831 \r\nL 287.272159 24.259829 \r\nL 298.142289 24.429831 \r\nL 309.012419 23.409793 \r\nL 319.882549 24.599846 \r\nL 330.752679 23.579795 \r\nL 341.622808 24.089814 \r\nL 352.492938 23.579795 \r\nL 363.363068 23.409793 \r\n\" style=\"fill:none;stroke:#1f77b4;stroke-linecap:square;stroke-width:1.5;\"/>\r\n   </g>\r\n   <g id=\"line2d_14\">\r\n    <path clip-path=\"url(#pcf49d884d1)\" d=\"M 58.999432 89.093869 \r\nL 69.869562 76.333298 \r\nL 80.739692 55.916402 \r\nL 91.609821 36.520348 \r\nL 102.479951 30.395273 \r\nL 113.350081 30.395273 \r\nL 124.220211 30.395273 \r\nL 135.090341 30.395273 \r\nL 145.960471 29.374431 \r\nL 156.830601 29.884852 \r\nL 167.700731 28.864011 \r\nL 178.57086 30.395273 \r\nL 189.44099 28.864011 \r\nL 200.31112 28.864011 \r\nL 211.18125 28.35359 \r\nL 222.05138 27.843156 \r\nL 232.92151 28.864011 \r\nL 243.79164 28.35359 \r\nL 254.661769 28.35359 \r\nL 265.531899 27.843156 \r\nL 276.402029 29.374431 \r\nL 287.272159 29.374431 \r\nL 298.142289 27.332735 \r\nL 309.012419 28.864011 \r\nL 319.882549 28.35359 \r\nL 330.752679 28.35359 \r\nL 341.622808 27.843156 \r\nL 352.492938 28.35359 \r\nL 363.363068 28.864011 \r\n\" style=\"fill:none;stroke:#ff7f0e;stroke-linecap:square;stroke-width:1.5;\"/>\r\n   </g>\r\n   <g id=\"patch_3\">\r\n    <path d=\"M 43.78125 228.439219 \r\nL 43.78125 10.999219 \r\n\" style=\"fill:none;stroke:#000000;stroke-linecap:square;stroke-linejoin:miter;stroke-width:0.8;\"/>\r\n   </g>\r\n   <g id=\"patch_4\">\r\n    <path d=\"M 378.58125 228.439219 \r\nL 378.58125 10.999219 \r\n\" style=\"fill:none;stroke:#000000;stroke-linecap:square;stroke-linejoin:miter;stroke-width:0.8;\"/>\r\n   </g>\r\n   <g id=\"patch_5\">\r\n    <path d=\"M 43.78125 228.439219 \r\nL 378.58125 228.439219 \r\n\" style=\"fill:none;stroke:#000000;stroke-linecap:square;stroke-linejoin:miter;stroke-width:0.8;\"/>\r\n   </g>\r\n   <g id=\"patch_6\">\r\n    <path d=\"M 43.78125 10.999219 \r\nL 378.58125 10.999219 \r\n\" style=\"fill:none;stroke:#000000;stroke-linecap:square;stroke-linejoin:miter;stroke-width:0.8;\"/>\r\n   </g>\r\n   <g id=\"legend_1\">\r\n    <g id=\"patch_7\">\r\n     <path d=\"M 274.6375 223.439219 \r\nL 371.58125 223.439219 \r\nQ 373.58125 223.439219 373.58125 221.439219 \r\nL 373.58125 192.804844 \r\nQ 373.58125 190.804844 371.58125 190.804844 \r\nL 274.6375 190.804844 \r\nQ 272.6375 190.804844 272.6375 192.804844 \r\nL 272.6375 221.439219 \r\nQ 272.6375 223.439219 274.6375 223.439219 \r\nz\r\n\" style=\"fill:#ffffff;opacity:0.8;stroke:#cccccc;stroke-linejoin:miter;\"/>\r\n    </g>\r\n    <g id=\"line2d_15\">\r\n     <path d=\"M 276.6375 198.903281 \r\nL 296.6375 198.903281 \r\n\" style=\"fill:none;stroke:#1f77b4;stroke-linecap:square;stroke-width:1.5;\"/>\r\n    </g>\r\n    <g id=\"line2d_16\"/>\r\n    <g id=\"text_15\">\r\n     <!-- accuracy -->\r\n     <g transform=\"translate(304.6375 202.403281)scale(0.1 -0.1)\">\r\n      <use xlink:href=\"#DejaVuSans-97\"/>\r\n      <use x=\"61.279297\" xlink:href=\"#DejaVuSans-99\"/>\r\n      <use x=\"116.259766\" xlink:href=\"#DejaVuSans-99\"/>\r\n      <use x=\"171.240234\" xlink:href=\"#DejaVuSans-117\"/>\r\n      <use x=\"234.619141\" xlink:href=\"#DejaVuSans-114\"/>\r\n      <use x=\"275.732422\" xlink:href=\"#DejaVuSans-97\"/>\r\n      <use x=\"337.011719\" xlink:href=\"#DejaVuSans-99\"/>\r\n      <use x=\"391.992188\" xlink:href=\"#DejaVuSans-121\"/>\r\n     </g>\r\n    </g>\r\n    <g id=\"line2d_17\">\r\n     <path d=\"M 276.6375 213.581406 \r\nL 296.6375 213.581406 \r\n\" style=\"fill:none;stroke:#ff7f0e;stroke-linecap:square;stroke-width:1.5;\"/>\r\n    </g>\r\n    <g id=\"line2d_18\"/>\r\n    <g id=\"text_16\">\r\n     <!-- val_accuracy -->\r\n     <defs>\r\n      <path d=\"M 2.984375 54.6875 \r\nL 12.5 54.6875 \r\nL 29.59375 8.796875 \r\nL 46.6875 54.6875 \r\nL 56.203125 54.6875 \r\nL 35.6875 0 \r\nL 23.484375 0 \r\nz\r\n\" id=\"DejaVuSans-118\"/>\r\n      <path d=\"M 9.421875 75.984375 \r\nL 18.40625 75.984375 \r\nL 18.40625 0 \r\nL 9.421875 0 \r\nz\r\n\" id=\"DejaVuSans-108\"/>\r\n      <path d=\"M 50.984375 -16.609375 \r\nL 50.984375 -23.578125 \r\nL -0.984375 -23.578125 \r\nL -0.984375 -16.609375 \r\nz\r\n\" id=\"DejaVuSans-95\"/>\r\n     </defs>\r\n     <g transform=\"translate(304.6375 217.081406)scale(0.1 -0.1)\">\r\n      <use xlink:href=\"#DejaVuSans-118\"/>\r\n      <use x=\"59.179688\" xlink:href=\"#DejaVuSans-97\"/>\r\n      <use x=\"120.458984\" xlink:href=\"#DejaVuSans-108\"/>\r\n      <use x=\"148.242188\" xlink:href=\"#DejaVuSans-95\"/>\r\n      <use x=\"198.242188\" xlink:href=\"#DejaVuSans-97\"/>\r\n      <use x=\"259.521484\" xlink:href=\"#DejaVuSans-99\"/>\r\n      <use x=\"314.501953\" xlink:href=\"#DejaVuSans-99\"/>\r\n      <use x=\"369.482422\" xlink:href=\"#DejaVuSans-117\"/>\r\n      <use x=\"432.861328\" xlink:href=\"#DejaVuSans-114\"/>\r\n      <use x=\"473.974609\" xlink:href=\"#DejaVuSans-97\"/>\r\n      <use x=\"535.253906\" xlink:href=\"#DejaVuSans-99\"/>\r\n      <use x=\"590.234375\" xlink:href=\"#DejaVuSans-121\"/>\r\n     </g>\r\n    </g>\r\n   </g>\r\n  </g>\r\n </g>\r\n <defs>\r\n  <clipPath id=\"pcf49d884d1\">\r\n   <rect height=\"217.44\" width=\"334.8\" x=\"43.78125\" y=\"10.999219\"/>\r\n  </clipPath>\r\n </defs>\r\n</svg>\r\n",
      "image/png": "[encoded data removed]"
     },
     "metadata": {
      "needs_background": "light"
     }
    }
   ],
   "source": [
    "plt.plot(history.history['accuracy'], label='accuracy')\n",
    "plt.plot(history.history['val_accuracy'], label = 'val_accuracy')\n",
    "plt.xlabel('Epoch')\n",
    "plt.ylabel('Accuracy')\n",
    "plt.ylim([0, 1])\n",
    "plt.legend(loc='lower right')"
   ]
  },
  {
   "cell_type": "code",
   "execution_count": 120,
   "metadata": {},
   "outputs": [
    {
     "output_type": "stream",
     "name": "stdout",
     "text": "14/14 - 0s - loss: 0.6149 - accuracy: 0.9344\n"
    }
   ],
   "source": [
    "test_loss, test_acc = model.evaluate(test,  test_labels, verbose=2)"
   ]
  },
  {
   "cell_type": "code",
   "execution_count": 121,
   "metadata": {},
   "outputs": [
    {
     "output_type": "execute_result",
     "data": {
      "text/plain": "array([0, 0, 2, 2, 2, 1, 2, 1, 0, 2, 1, 2, 1, 1, 0, 2, 0, 1, 1, 0, 1, 0,\n       0, 0, 1, 1, 2, 2, 0, 0, 1, 2, 1, 0, 0, 2, 2, 2, 0, 2, 2, 2, 1, 1,\n       1, 2, 0, 2, 0, 0])"
     },
     "metadata": {},
     "execution_count": 121
    }
   ],
   "source": [
    "test_labels[:50]"
   ]
  },
  {
   "cell_type": "code",
   "execution_count": 122,
   "metadata": {},
   "outputs": [
    {
     "output_type": "stream",
     "name": "stdout",
     "text": "(427, 3)\nNEUTRAL NEUTRAL\nNEUTRAL NEUTRAL\nNEGATIVE NEGATIVE\nNEGATIVE NEGATIVE\nNEGATIVE NEGATIVE\nPOSITIVE POSITIVE\nNEGATIVE NEGATIVE\nPOSITIVE POSITIVE\nNEUTRAL NEUTRAL\nNEGATIVE NEGATIVE\nPOSITIVE POSITIVE\nNEGATIVE NEGATIVE\nPOSITIVE POSITIVE\nPOSITIVE POSITIVE\nNEUTRAL NEUTRAL\nNEGATIVE NEGATIVE\nNEUTRAL NEUTRAL\nPOSITIVE POSITIVE\nPOSITIVE POSITIVE\nNEUTRAL NEUTRAL\nPOSITIVE POSITIVE\nNEUTRAL NEUTRAL\nNEUTRAL NEUTRAL\nNEUTRAL NEUTRAL\nPOSITIVE POSITIVE\nNEGATIVE POSITIVE\nNEGATIVE NEGATIVE\nNEGATIVE NEGATIVE\nNEUTRAL NEUTRAL\nNEUTRAL NEUTRAL\nNEGATIVE POSITIVE\nNEGATIVE NEGATIVE\nPOSITIVE POSITIVE\nNEUTRAL NEUTRAL\nNEUTRAL NEUTRAL\nNEGATIVE NEGATIVE\nNEGATIVE NEGATIVE\nNEGATIVE NEGATIVE\nNEUTRAL NEUTRAL\nNEGATIVE NEGATIVE\nNEGATIVE NEGATIVE\nNEGATIVE NEGATIVE\nNEGATIVE POSITIVE\nPOSITIVE POSITIVE\nPOSITIVE POSITIVE\nNEGATIVE NEGATIVE\nNEUTRAL NEUTRAL\nNEGATIVE NEGATIVE\nNEUTRAL NEUTRAL\nNEUTRAL NEUTRAL\n"
    }
   ],
   "source": [
    "# prediction = model.predict(np.expand_dims(test[0], axis=0))\n",
    "prediction = model.predict(test)\n",
    "print(prediction.shape)\n",
    "for (index,p) in enumerate(prediction[:50]):\n",
    "    # print(p)\n",
    "    print(class_labels.int2str(np.argmax(p)), class_labels.int2str(test_labels[index]))\n",
    "    # print(np.argmax(prediction))"
   ]
  }
 ],
 "metadata": {
  "kernelspec": {
   "display_name": "Python 3",
   "language": "python",
   "name": "python3"
  },
  "language_info": {
   "codemirror_mode": {
    "name": "ipython",
    "version": 3
   },
   "file_extension": ".py",
   "mimetype": "text/x-python",
   "name": "python",
   "nbconvert_exporter": "python",
   "pygments_lexer": "ipython3",
   "version": "3.8.1"
  }
 },
 "nbformat": 4,
 "nbformat_minor": 4
}